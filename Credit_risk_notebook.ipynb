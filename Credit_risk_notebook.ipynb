{
  "cells": [
    {
      "cell_type": "code",
      "execution_count": 1,
      "metadata": {
        "id": "5QY5liABafev"
      },
      "outputs": [],
      "source": [
        "!pip install statsmodels openpyxl -U -q"
      ]
    },
    {
      "cell_type": "code",
      "execution_count": 2,
      "metadata": {
        "id": "p8zXcntqafew"
      },
      "outputs": [],
      "source": [
        "# Import necessary libraries\n",
        "import numpy as np\n",
        "import pandas as pd\n",
        "import matplotlib.pyplot as plt\n",
        "from sklearn.metrics import r2_score\n",
        "from scipy.stats import chi2_contingency\n",
        "from statsmodels.stats.outliers_influence import variance_inflation_factor\n",
        "from sklearn.model_selection import train_test_split\n",
        "from sklearn.ensemble import RandomForestClassifier\n",
        "from sklearn.metrics import accuracy_score, classification_report, precision_recall_fscore_support\n",
        "import warnings\n",
        "import os\n"
      ]
    },
    {
      "cell_type": "markdown",
      "metadata": {
        "id": "Nl93R8B6afew"
      },
      "source": [
        "This code snippet is a Python script that imports various libraries necessary for data manipulation, visualization, statistical analysis, and machine learning. Here's a brief explanation of each import:\n",
        "\n",
        "1. **`numpy as np`**: NumPy is a library for the Python programming language, adding support for large, multi-dimensional arrays and matrices, along with a large collection of high-level mathematical functions to operate on these arrays.\n",
        "\n",
        "2. **`pandas as pd`**: Pandas is a library providing high-performance, easy-to-use data structures and data analysis tools for the Python programming language.\n",
        "\n",
        "3. **`matplotlib.pyplot as plt`**: Matplotlib is a plotting library for the Python programming language and its numerical mathematics extension NumPy. `pyplot` is a module in Matplotlib that provides a MATLAB-like interface.\n",
        "\n",
        "4. **`sklearn.metrics import r2_score`**: From the scikit-learn library, `r2_score` is imported for calculating the coefficient of determination, which is a measure of how well observed outcomes are replicated by the model.\n",
        "\n",
        "5. **`scipy.stats import chi2_contingency`**: From the SciPy library, `chi2_contingency` is used for testing the independence of two categorical variables in a contingency table.\n",
        "\n",
        "6. **`statsmodels.stats.outliers_influence import variance_inflation_factor`**: This function from the statsmodels library is used to calculate the Variance Inflation Factor (VIF), which quantifies the severity of multicollinearity in an ordinary least squares regression analysis.\n",
        "\n",
        "7. **`sklearn.model_selection import train_test_split`**: This function is used to split arrays or matrices into random train and test subsets.\n",
        "\n",
        "8. **`sklearn.ensemble import RandomForestClassifier`**: This imports the Random Forest Classifier from scikit-learn, a meta estimator that fits a number of decision tree classifiers on various sub-samples of the dataset and uses averaging to improve the predictive accuracy and control over-fitting.\n",
        "\n",
        "9. **`sklearn.metrics import accuracy_score, classification_report, precision_recall_fscore_support`**: These functions are used to compute various classification metrics: accuracy score, a full report showing the main classification metrics, and a function to compute precision, recall, F-measure, and support for each class.\n",
        "\n",
        "10. **`warnings`**: This is a standard Python library to warn the developer of situations that aren’t necessarily exceptions.\n",
        "\n",
        "11. **`os`**: This module provides a portable way of using operating system dependent functionality.\n",
        "\n",
        "In summary, this code is setting up an environment for conducting data analysis and machine learning tasks, including data manipulation, visualization, statistical testing, model training and evaluation, while also handling warnings and interacting with the operating system."
      ]
    },
    {
      "cell_type": "code",
      "execution_count": 3,
      "metadata": {
        "id": "8ChB1tgyafex"
      },
      "outputs": [],
      "source": [
        "# Load the dataset\n",
        "a1 = pd.read_excel(\"/content/case_study1.xlsx\")\n",
        "a2 = pd.read_excel(\"/content/case_study2.xlsx\")"
      ]
    },
    {
      "cell_type": "code",
      "execution_count": 4,
      "metadata": {
        "id": "0muXLRI7afey"
      },
      "outputs": [],
      "source": [
        "df1 = a1.copy()\n",
        "df2 = a2.copy()"
      ]
    },
    {
      "cell_type": "code",
      "execution_count": 5,
      "metadata": {
        "colab": {
          "base_uri": "https://localhost:8080/"
        },
        "id": "mqD-KPc1afey",
        "outputId": "6247e25e-b749-47d5-8ece-2de96fafa74c"
      },
      "outputs": [
        {
          "output_type": "stream",
          "name": "stdout",
          "text": [
            "<class 'pandas.core.frame.DataFrame'>\n",
            "RangeIndex: 51336 entries, 0 to 51335\n",
            "Data columns (total 26 columns):\n",
            " #   Column                Non-Null Count  Dtype  \n",
            "---  ------                --------------  -----  \n",
            " 0   PROSPECTID            51336 non-null  int64  \n",
            " 1   Total_TL              51336 non-null  int64  \n",
            " 2   Tot_Closed_TL         51336 non-null  int64  \n",
            " 3   Tot_Active_TL         51336 non-null  int64  \n",
            " 4   Total_TL_opened_L6M   51336 non-null  int64  \n",
            " 5   Tot_TL_closed_L6M     51336 non-null  int64  \n",
            " 6   pct_tl_open_L6M       51336 non-null  float64\n",
            " 7   pct_tl_closed_L6M     51336 non-null  float64\n",
            " 8   pct_active_tl         51336 non-null  float64\n",
            " 9   pct_closed_tl         51336 non-null  float64\n",
            " 10  Total_TL_opened_L12M  51336 non-null  int64  \n",
            " 11  Tot_TL_closed_L12M    51336 non-null  int64  \n",
            " 12  pct_tl_open_L12M      51336 non-null  float64\n",
            " 13  pct_tl_closed_L12M    51336 non-null  float64\n",
            " 14  Tot_Missed_Pmnt       51336 non-null  int64  \n",
            " 15  Auto_TL               51336 non-null  int64  \n",
            " 16  CC_TL                 51336 non-null  int64  \n",
            " 17  Consumer_TL           51336 non-null  int64  \n",
            " 18  Gold_TL               51336 non-null  int64  \n",
            " 19  Home_TL               51336 non-null  int64  \n",
            " 20  PL_TL                 51336 non-null  int64  \n",
            " 21  Secured_TL            51336 non-null  int64  \n",
            " 22  Unsecured_TL          51336 non-null  int64  \n",
            " 23  Other_TL              51336 non-null  int64  \n",
            " 24  Age_Oldest_TL         51336 non-null  int64  \n",
            " 25  Age_Newest_TL         51336 non-null  int64  \n",
            "dtypes: float64(6), int64(20)\n",
            "memory usage: 10.2 MB\n"
          ]
        }
      ],
      "source": [
        "df1.info()"
      ]
    },
    {
      "cell_type": "code",
      "source": [
        "df1.describe()"
      ],
      "metadata": {
        "colab": {
          "base_uri": "https://localhost:8080/",
          "height": 350
        },
        "id": "DjGiDnEf6kUT",
        "outputId": "868a4a5c-f5fd-4b1d-c998-3b1b611daf4a"
      },
      "execution_count": 6,
      "outputs": [
        {
          "output_type": "execute_result",
          "data": {
            "text/plain": [
              "         PROSPECTID      Total_TL  Tot_Closed_TL  Tot_Active_TL  \\\n",
              "count  51336.000000  51336.000000   51336.000000   51336.000000   \n",
              "mean   25668.500000      4.858598       2.770415       2.088184   \n",
              "std    14819.571046      7.177116       5.941680       2.290774   \n",
              "min        1.000000      1.000000       0.000000       0.000000   \n",
              "25%    12834.750000      1.000000       0.000000       1.000000   \n",
              "50%    25668.500000      2.000000       1.000000       1.000000   \n",
              "75%    38502.250000      5.000000       3.000000       3.000000   \n",
              "max    51336.000000    235.000000     216.000000      47.000000   \n",
              "\n",
              "       Total_TL_opened_L6M  Tot_TL_closed_L6M  pct_tl_open_L6M  \\\n",
              "count         51336.000000       51336.000000     51336.000000   \n",
              "mean              0.736754           0.428919         0.184574   \n",
              "std               1.296717           0.989972         0.297414   \n",
              "min               0.000000           0.000000         0.000000   \n",
              "25%               0.000000           0.000000         0.000000   \n",
              "50%               0.000000           0.000000         0.000000   \n",
              "75%               1.000000           1.000000         0.308000   \n",
              "max              27.000000          19.000000         1.000000   \n",
              "\n",
              "       pct_tl_closed_L6M  pct_active_tl  pct_closed_tl  ...         CC_TL  \\\n",
              "count       51336.000000   51336.000000   51336.000000  ...  51336.000000   \n",
              "mean            0.089095       0.577542       0.422458  ...      0.124981   \n",
              "std             0.205635       0.379867       0.379867  ...      0.505201   \n",
              "min             0.000000       0.000000       0.000000  ...      0.000000   \n",
              "25%             0.000000       0.250000       0.000000  ...      0.000000   \n",
              "50%             0.000000       0.556000       0.444000  ...      0.000000   \n",
              "75%             0.053000       1.000000       0.750000  ...      0.000000   \n",
              "max             1.000000       1.000000       1.000000  ...     27.000000   \n",
              "\n",
              "        Consumer_TL       Gold_TL       Home_TL         PL_TL    Secured_TL  \\\n",
              "count  51336.000000  51336.000000  51336.000000  51336.000000  51336.000000   \n",
              "mean       1.136084      1.561847      0.070146      0.282511      2.844904   \n",
              "std        2.227997      5.376434      0.340861      0.858168      6.187177   \n",
              "min        0.000000      0.000000      0.000000      0.000000      0.000000   \n",
              "25%        0.000000      0.000000      0.000000      0.000000      0.000000   \n",
              "50%        0.000000      0.000000      0.000000      0.000000      1.000000   \n",
              "75%        1.000000      1.000000      0.000000      0.000000      3.000000   \n",
              "max       41.000000    235.000000     10.000000     29.000000    235.000000   \n",
              "\n",
              "       Unsecured_TL      Other_TL  Age_Oldest_TL  Age_Newest_TL  \n",
              "count  51336.000000  51336.000000   51336.000000   51336.000000  \n",
              "mean       2.013694      1.089762     -32.575639     -62.149525  \n",
              "std        3.198322      2.417496    2791.869609    2790.818622  \n",
              "min        0.000000      0.000000  -99999.000000  -99999.000000  \n",
              "25%        0.000000      0.000000      14.000000       4.000000  \n",
              "50%        1.000000      0.000000      33.000000       8.000000  \n",
              "75%        2.000000      1.000000      64.000000      17.000000  \n",
              "max       55.000000     80.000000     392.000000     392.000000  \n",
              "\n",
              "[8 rows x 26 columns]"
            ],
            "text/html": [
              "\n",
              "  <div id=\"df-bfaec456-163c-4172-a38c-1d274486ee6c\" class=\"colab-df-container\">\n",
              "    <div>\n",
              "<style scoped>\n",
              "    .dataframe tbody tr th:only-of-type {\n",
              "        vertical-align: middle;\n",
              "    }\n",
              "\n",
              "    .dataframe tbody tr th {\n",
              "        vertical-align: top;\n",
              "    }\n",
              "\n",
              "    .dataframe thead th {\n",
              "        text-align: right;\n",
              "    }\n",
              "</style>\n",
              "<table border=\"1\" class=\"dataframe\">\n",
              "  <thead>\n",
              "    <tr style=\"text-align: right;\">\n",
              "      <th></th>\n",
              "      <th>PROSPECTID</th>\n",
              "      <th>Total_TL</th>\n",
              "      <th>Tot_Closed_TL</th>\n",
              "      <th>Tot_Active_TL</th>\n",
              "      <th>Total_TL_opened_L6M</th>\n",
              "      <th>Tot_TL_closed_L6M</th>\n",
              "      <th>pct_tl_open_L6M</th>\n",
              "      <th>pct_tl_closed_L6M</th>\n",
              "      <th>pct_active_tl</th>\n",
              "      <th>pct_closed_tl</th>\n",
              "      <th>...</th>\n",
              "      <th>CC_TL</th>\n",
              "      <th>Consumer_TL</th>\n",
              "      <th>Gold_TL</th>\n",
              "      <th>Home_TL</th>\n",
              "      <th>PL_TL</th>\n",
              "      <th>Secured_TL</th>\n",
              "      <th>Unsecured_TL</th>\n",
              "      <th>Other_TL</th>\n",
              "      <th>Age_Oldest_TL</th>\n",
              "      <th>Age_Newest_TL</th>\n",
              "    </tr>\n",
              "  </thead>\n",
              "  <tbody>\n",
              "    <tr>\n",
              "      <th>count</th>\n",
              "      <td>51336.000000</td>\n",
              "      <td>51336.000000</td>\n",
              "      <td>51336.000000</td>\n",
              "      <td>51336.000000</td>\n",
              "      <td>51336.000000</td>\n",
              "      <td>51336.000000</td>\n",
              "      <td>51336.000000</td>\n",
              "      <td>51336.000000</td>\n",
              "      <td>51336.000000</td>\n",
              "      <td>51336.000000</td>\n",
              "      <td>...</td>\n",
              "      <td>51336.000000</td>\n",
              "      <td>51336.000000</td>\n",
              "      <td>51336.000000</td>\n",
              "      <td>51336.000000</td>\n",
              "      <td>51336.000000</td>\n",
              "      <td>51336.000000</td>\n",
              "      <td>51336.000000</td>\n",
              "      <td>51336.000000</td>\n",
              "      <td>51336.000000</td>\n",
              "      <td>51336.000000</td>\n",
              "    </tr>\n",
              "    <tr>\n",
              "      <th>mean</th>\n",
              "      <td>25668.500000</td>\n",
              "      <td>4.858598</td>\n",
              "      <td>2.770415</td>\n",
              "      <td>2.088184</td>\n",
              "      <td>0.736754</td>\n",
              "      <td>0.428919</td>\n",
              "      <td>0.184574</td>\n",
              "      <td>0.089095</td>\n",
              "      <td>0.577542</td>\n",
              "      <td>0.422458</td>\n",
              "      <td>...</td>\n",
              "      <td>0.124981</td>\n",
              "      <td>1.136084</td>\n",
              "      <td>1.561847</td>\n",
              "      <td>0.070146</td>\n",
              "      <td>0.282511</td>\n",
              "      <td>2.844904</td>\n",
              "      <td>2.013694</td>\n",
              "      <td>1.089762</td>\n",
              "      <td>-32.575639</td>\n",
              "      <td>-62.149525</td>\n",
              "    </tr>\n",
              "    <tr>\n",
              "      <th>std</th>\n",
              "      <td>14819.571046</td>\n",
              "      <td>7.177116</td>\n",
              "      <td>5.941680</td>\n",
              "      <td>2.290774</td>\n",
              "      <td>1.296717</td>\n",
              "      <td>0.989972</td>\n",
              "      <td>0.297414</td>\n",
              "      <td>0.205635</td>\n",
              "      <td>0.379867</td>\n",
              "      <td>0.379867</td>\n",
              "      <td>...</td>\n",
              "      <td>0.505201</td>\n",
              "      <td>2.227997</td>\n",
              "      <td>5.376434</td>\n",
              "      <td>0.340861</td>\n",
              "      <td>0.858168</td>\n",
              "      <td>6.187177</td>\n",
              "      <td>3.198322</td>\n",
              "      <td>2.417496</td>\n",
              "      <td>2791.869609</td>\n",
              "      <td>2790.818622</td>\n",
              "    </tr>\n",
              "    <tr>\n",
              "      <th>min</th>\n",
              "      <td>1.000000</td>\n",
              "      <td>1.000000</td>\n",
              "      <td>0.000000</td>\n",
              "      <td>0.000000</td>\n",
              "      <td>0.000000</td>\n",
              "      <td>0.000000</td>\n",
              "      <td>0.000000</td>\n",
              "      <td>0.000000</td>\n",
              "      <td>0.000000</td>\n",
              "      <td>0.000000</td>\n",
              "      <td>...</td>\n",
              "      <td>0.000000</td>\n",
              "      <td>0.000000</td>\n",
              "      <td>0.000000</td>\n",
              "      <td>0.000000</td>\n",
              "      <td>0.000000</td>\n",
              "      <td>0.000000</td>\n",
              "      <td>0.000000</td>\n",
              "      <td>0.000000</td>\n",
              "      <td>-99999.000000</td>\n",
              "      <td>-99999.000000</td>\n",
              "    </tr>\n",
              "    <tr>\n",
              "      <th>25%</th>\n",
              "      <td>12834.750000</td>\n",
              "      <td>1.000000</td>\n",
              "      <td>0.000000</td>\n",
              "      <td>1.000000</td>\n",
              "      <td>0.000000</td>\n",
              "      <td>0.000000</td>\n",
              "      <td>0.000000</td>\n",
              "      <td>0.000000</td>\n",
              "      <td>0.250000</td>\n",
              "      <td>0.000000</td>\n",
              "      <td>...</td>\n",
              "      <td>0.000000</td>\n",
              "      <td>0.000000</td>\n",
              "      <td>0.000000</td>\n",
              "      <td>0.000000</td>\n",
              "      <td>0.000000</td>\n",
              "      <td>0.000000</td>\n",
              "      <td>0.000000</td>\n",
              "      <td>0.000000</td>\n",
              "      <td>14.000000</td>\n",
              "      <td>4.000000</td>\n",
              "    </tr>\n",
              "    <tr>\n",
              "      <th>50%</th>\n",
              "      <td>25668.500000</td>\n",
              "      <td>2.000000</td>\n",
              "      <td>1.000000</td>\n",
              "      <td>1.000000</td>\n",
              "      <td>0.000000</td>\n",
              "      <td>0.000000</td>\n",
              "      <td>0.000000</td>\n",
              "      <td>0.000000</td>\n",
              "      <td>0.556000</td>\n",
              "      <td>0.444000</td>\n",
              "      <td>...</td>\n",
              "      <td>0.000000</td>\n",
              "      <td>0.000000</td>\n",
              "      <td>0.000000</td>\n",
              "      <td>0.000000</td>\n",
              "      <td>0.000000</td>\n",
              "      <td>1.000000</td>\n",
              "      <td>1.000000</td>\n",
              "      <td>0.000000</td>\n",
              "      <td>33.000000</td>\n",
              "      <td>8.000000</td>\n",
              "    </tr>\n",
              "    <tr>\n",
              "      <th>75%</th>\n",
              "      <td>38502.250000</td>\n",
              "      <td>5.000000</td>\n",
              "      <td>3.000000</td>\n",
              "      <td>3.000000</td>\n",
              "      <td>1.000000</td>\n",
              "      <td>1.000000</td>\n",
              "      <td>0.308000</td>\n",
              "      <td>0.053000</td>\n",
              "      <td>1.000000</td>\n",
              "      <td>0.750000</td>\n",
              "      <td>...</td>\n",
              "      <td>0.000000</td>\n",
              "      <td>1.000000</td>\n",
              "      <td>1.000000</td>\n",
              "      <td>0.000000</td>\n",
              "      <td>0.000000</td>\n",
              "      <td>3.000000</td>\n",
              "      <td>2.000000</td>\n",
              "      <td>1.000000</td>\n",
              "      <td>64.000000</td>\n",
              "      <td>17.000000</td>\n",
              "    </tr>\n",
              "    <tr>\n",
              "      <th>max</th>\n",
              "      <td>51336.000000</td>\n",
              "      <td>235.000000</td>\n",
              "      <td>216.000000</td>\n",
              "      <td>47.000000</td>\n",
              "      <td>27.000000</td>\n",
              "      <td>19.000000</td>\n",
              "      <td>1.000000</td>\n",
              "      <td>1.000000</td>\n",
              "      <td>1.000000</td>\n",
              "      <td>1.000000</td>\n",
              "      <td>...</td>\n",
              "      <td>27.000000</td>\n",
              "      <td>41.000000</td>\n",
              "      <td>235.000000</td>\n",
              "      <td>10.000000</td>\n",
              "      <td>29.000000</td>\n",
              "      <td>235.000000</td>\n",
              "      <td>55.000000</td>\n",
              "      <td>80.000000</td>\n",
              "      <td>392.000000</td>\n",
              "      <td>392.000000</td>\n",
              "    </tr>\n",
              "  </tbody>\n",
              "</table>\n",
              "<p>8 rows × 26 columns</p>\n",
              "</div>\n",
              "    <div class=\"colab-df-buttons\">\n",
              "\n",
              "  <div class=\"colab-df-container\">\n",
              "    <button class=\"colab-df-convert\" onclick=\"convertToInteractive('df-bfaec456-163c-4172-a38c-1d274486ee6c')\"\n",
              "            title=\"Convert this dataframe to an interactive table.\"\n",
              "            style=\"display:none;\">\n",
              "\n",
              "  <svg xmlns=\"http://www.w3.org/2000/svg\" height=\"24px\" viewBox=\"0 -960 960 960\">\n",
              "    <path d=\"M120-120v-720h720v720H120Zm60-500h600v-160H180v160Zm220 220h160v-160H400v160Zm0 220h160v-160H400v160ZM180-400h160v-160H180v160Zm440 0h160v-160H620v160ZM180-180h160v-160H180v160Zm440 0h160v-160H620v160Z\"/>\n",
              "  </svg>\n",
              "    </button>\n",
              "\n",
              "  <style>\n",
              "    .colab-df-container {\n",
              "      display:flex;\n",
              "      gap: 12px;\n",
              "    }\n",
              "\n",
              "    .colab-df-convert {\n",
              "      background-color: #E8F0FE;\n",
              "      border: none;\n",
              "      border-radius: 50%;\n",
              "      cursor: pointer;\n",
              "      display: none;\n",
              "      fill: #1967D2;\n",
              "      height: 32px;\n",
              "      padding: 0 0 0 0;\n",
              "      width: 32px;\n",
              "    }\n",
              "\n",
              "    .colab-df-convert:hover {\n",
              "      background-color: #E2EBFA;\n",
              "      box-shadow: 0px 1px 2px rgba(60, 64, 67, 0.3), 0px 1px 3px 1px rgba(60, 64, 67, 0.15);\n",
              "      fill: #174EA6;\n",
              "    }\n",
              "\n",
              "    .colab-df-buttons div {\n",
              "      margin-bottom: 4px;\n",
              "    }\n",
              "\n",
              "    [theme=dark] .colab-df-convert {\n",
              "      background-color: #3B4455;\n",
              "      fill: #D2E3FC;\n",
              "    }\n",
              "\n",
              "    [theme=dark] .colab-df-convert:hover {\n",
              "      background-color: #434B5C;\n",
              "      box-shadow: 0px 1px 3px 1px rgba(0, 0, 0, 0.15);\n",
              "      filter: drop-shadow(0px 1px 2px rgba(0, 0, 0, 0.3));\n",
              "      fill: #FFFFFF;\n",
              "    }\n",
              "  </style>\n",
              "\n",
              "    <script>\n",
              "      const buttonEl =\n",
              "        document.querySelector('#df-bfaec456-163c-4172-a38c-1d274486ee6c button.colab-df-convert');\n",
              "      buttonEl.style.display =\n",
              "        google.colab.kernel.accessAllowed ? 'block' : 'none';\n",
              "\n",
              "      async function convertToInteractive(key) {\n",
              "        const element = document.querySelector('#df-bfaec456-163c-4172-a38c-1d274486ee6c');\n",
              "        const dataTable =\n",
              "          await google.colab.kernel.invokeFunction('convertToInteractive',\n",
              "                                                    [key], {});\n",
              "        if (!dataTable) return;\n",
              "\n",
              "        const docLinkHtml = 'Like what you see? Visit the ' +\n",
              "          '<a target=\"_blank\" href=https://colab.research.google.com/notebooks/data_table.ipynb>data table notebook</a>'\n",
              "          + ' to learn more about interactive tables.';\n",
              "        element.innerHTML = '';\n",
              "        dataTable['output_type'] = 'display_data';\n",
              "        await google.colab.output.renderOutput(dataTable, element);\n",
              "        const docLink = document.createElement('div');\n",
              "        docLink.innerHTML = docLinkHtml;\n",
              "        element.appendChild(docLink);\n",
              "      }\n",
              "    </script>\n",
              "  </div>\n",
              "\n",
              "\n",
              "<div id=\"df-1694265c-43ef-4aa7-b468-d2f1111575a5\">\n",
              "  <button class=\"colab-df-quickchart\" onclick=\"quickchart('df-1694265c-43ef-4aa7-b468-d2f1111575a5')\"\n",
              "            title=\"Suggest charts\"\n",
              "            style=\"display:none;\">\n",
              "\n",
              "<svg xmlns=\"http://www.w3.org/2000/svg\" height=\"24px\"viewBox=\"0 0 24 24\"\n",
              "     width=\"24px\">\n",
              "    <g>\n",
              "        <path d=\"M19 3H5c-1.1 0-2 .9-2 2v14c0 1.1.9 2 2 2h14c1.1 0 2-.9 2-2V5c0-1.1-.9-2-2-2zM9 17H7v-7h2v7zm4 0h-2V7h2v10zm4 0h-2v-4h2v4z\"/>\n",
              "    </g>\n",
              "</svg>\n",
              "  </button>\n",
              "\n",
              "<style>\n",
              "  .colab-df-quickchart {\n",
              "      --bg-color: #E8F0FE;\n",
              "      --fill-color: #1967D2;\n",
              "      --hover-bg-color: #E2EBFA;\n",
              "      --hover-fill-color: #174EA6;\n",
              "      --disabled-fill-color: #AAA;\n",
              "      --disabled-bg-color: #DDD;\n",
              "  }\n",
              "\n",
              "  [theme=dark] .colab-df-quickchart {\n",
              "      --bg-color: #3B4455;\n",
              "      --fill-color: #D2E3FC;\n",
              "      --hover-bg-color: #434B5C;\n",
              "      --hover-fill-color: #FFFFFF;\n",
              "      --disabled-bg-color: #3B4455;\n",
              "      --disabled-fill-color: #666;\n",
              "  }\n",
              "\n",
              "  .colab-df-quickchart {\n",
              "    background-color: var(--bg-color);\n",
              "    border: none;\n",
              "    border-radius: 50%;\n",
              "    cursor: pointer;\n",
              "    display: none;\n",
              "    fill: var(--fill-color);\n",
              "    height: 32px;\n",
              "    padding: 0;\n",
              "    width: 32px;\n",
              "  }\n",
              "\n",
              "  .colab-df-quickchart:hover {\n",
              "    background-color: var(--hover-bg-color);\n",
              "    box-shadow: 0 1px 2px rgba(60, 64, 67, 0.3), 0 1px 3px 1px rgba(60, 64, 67, 0.15);\n",
              "    fill: var(--button-hover-fill-color);\n",
              "  }\n",
              "\n",
              "  .colab-df-quickchart-complete:disabled,\n",
              "  .colab-df-quickchart-complete:disabled:hover {\n",
              "    background-color: var(--disabled-bg-color);\n",
              "    fill: var(--disabled-fill-color);\n",
              "    box-shadow: none;\n",
              "  }\n",
              "\n",
              "  .colab-df-spinner {\n",
              "    border: 2px solid var(--fill-color);\n",
              "    border-color: transparent;\n",
              "    border-bottom-color: var(--fill-color);\n",
              "    animation:\n",
              "      spin 1s steps(1) infinite;\n",
              "  }\n",
              "\n",
              "  @keyframes spin {\n",
              "    0% {\n",
              "      border-color: transparent;\n",
              "      border-bottom-color: var(--fill-color);\n",
              "      border-left-color: var(--fill-color);\n",
              "    }\n",
              "    20% {\n",
              "      border-color: transparent;\n",
              "      border-left-color: var(--fill-color);\n",
              "      border-top-color: var(--fill-color);\n",
              "    }\n",
              "    30% {\n",
              "      border-color: transparent;\n",
              "      border-left-color: var(--fill-color);\n",
              "      border-top-color: var(--fill-color);\n",
              "      border-right-color: var(--fill-color);\n",
              "    }\n",
              "    40% {\n",
              "      border-color: transparent;\n",
              "      border-right-color: var(--fill-color);\n",
              "      border-top-color: var(--fill-color);\n",
              "    }\n",
              "    60% {\n",
              "      border-color: transparent;\n",
              "      border-right-color: var(--fill-color);\n",
              "    }\n",
              "    80% {\n",
              "      border-color: transparent;\n",
              "      border-right-color: var(--fill-color);\n",
              "      border-bottom-color: var(--fill-color);\n",
              "    }\n",
              "    90% {\n",
              "      border-color: transparent;\n",
              "      border-bottom-color: var(--fill-color);\n",
              "    }\n",
              "  }\n",
              "</style>\n",
              "\n",
              "  <script>\n",
              "    async function quickchart(key) {\n",
              "      const quickchartButtonEl =\n",
              "        document.querySelector('#' + key + ' button');\n",
              "      quickchartButtonEl.disabled = true;  // To prevent multiple clicks.\n",
              "      quickchartButtonEl.classList.add('colab-df-spinner');\n",
              "      try {\n",
              "        const charts = await google.colab.kernel.invokeFunction(\n",
              "            'suggestCharts', [key], {});\n",
              "      } catch (error) {\n",
              "        console.error('Error during call to suggestCharts:', error);\n",
              "      }\n",
              "      quickchartButtonEl.classList.remove('colab-df-spinner');\n",
              "      quickchartButtonEl.classList.add('colab-df-quickchart-complete');\n",
              "    }\n",
              "    (() => {\n",
              "      let quickchartButtonEl =\n",
              "        document.querySelector('#df-1694265c-43ef-4aa7-b468-d2f1111575a5 button');\n",
              "      quickchartButtonEl.style.display =\n",
              "        google.colab.kernel.accessAllowed ? 'block' : 'none';\n",
              "    })();\n",
              "  </script>\n",
              "</div>\n",
              "\n",
              "    </div>\n",
              "  </div>\n"
            ],
            "application/vnd.google.colaboratory.intrinsic+json": {
              "type": "dataframe"
            }
          },
          "metadata": {},
          "execution_count": 6
        }
      ]
    },
    {
      "cell_type": "code",
      "execution_count": 7,
      "metadata": {
        "colab": {
          "base_uri": "https://localhost:8080/"
        },
        "id": "EZwn0RJVafez",
        "outputId": "0bef1793-a47d-490b-d230-7c9914a948e2"
      },
      "outputs": [
        {
          "output_type": "stream",
          "name": "stdout",
          "text": [
            "<class 'pandas.core.frame.DataFrame'>\n",
            "RangeIndex: 51336 entries, 0 to 51335\n",
            "Data columns (total 62 columns):\n",
            " #   Column                        Non-Null Count  Dtype  \n",
            "---  ------                        --------------  -----  \n",
            " 0   PROSPECTID                    51336 non-null  int64  \n",
            " 1   time_since_recent_payment     51336 non-null  int64  \n",
            " 2   time_since_first_deliquency   51336 non-null  int64  \n",
            " 3   time_since_recent_deliquency  51336 non-null  int64  \n",
            " 4   num_times_delinquent          51336 non-null  int64  \n",
            " 5   max_delinquency_level         51336 non-null  int64  \n",
            " 6   max_recent_level_of_deliq     51336 non-null  int64  \n",
            " 7   num_deliq_6mts                51336 non-null  int64  \n",
            " 8   num_deliq_12mts               51336 non-null  int64  \n",
            " 9   num_deliq_6_12mts             51336 non-null  int64  \n",
            " 10  max_deliq_6mts                51336 non-null  int64  \n",
            " 11  max_deliq_12mts               51336 non-null  int64  \n",
            " 12  num_times_30p_dpd             51336 non-null  int64  \n",
            " 13  num_times_60p_dpd             51336 non-null  int64  \n",
            " 14  num_std                       51336 non-null  int64  \n",
            " 15  num_std_6mts                  51336 non-null  int64  \n",
            " 16  num_std_12mts                 51336 non-null  int64  \n",
            " 17  num_sub                       51336 non-null  int64  \n",
            " 18  num_sub_6mts                  51336 non-null  int64  \n",
            " 19  num_sub_12mts                 51336 non-null  int64  \n",
            " 20  num_dbt                       51336 non-null  int64  \n",
            " 21  num_dbt_6mts                  51336 non-null  int64  \n",
            " 22  num_dbt_12mts                 51336 non-null  int64  \n",
            " 23  num_lss                       51336 non-null  int64  \n",
            " 24  num_lss_6mts                  51336 non-null  int64  \n",
            " 25  num_lss_12mts                 51336 non-null  int64  \n",
            " 26  recent_level_of_deliq         51336 non-null  int64  \n",
            " 27  tot_enq                       51336 non-null  int64  \n",
            " 28  CC_enq                        51336 non-null  int64  \n",
            " 29  CC_enq_L6m                    51336 non-null  int64  \n",
            " 30  CC_enq_L12m                   51336 non-null  int64  \n",
            " 31  PL_enq                        51336 non-null  int64  \n",
            " 32  PL_enq_L6m                    51336 non-null  int64  \n",
            " 33  PL_enq_L12m                   51336 non-null  int64  \n",
            " 34  time_since_recent_enq         51336 non-null  int64  \n",
            " 35  enq_L12m                      51336 non-null  int64  \n",
            " 36  enq_L6m                       51336 non-null  int64  \n",
            " 37  enq_L3m                       51336 non-null  int64  \n",
            " 38  MARITALSTATUS                 51336 non-null  object \n",
            " 39  EDUCATION                     51336 non-null  object \n",
            " 40  AGE                           51336 non-null  int64  \n",
            " 41  GENDER                        51336 non-null  object \n",
            " 42  NETMONTHLYINCOME              51336 non-null  int64  \n",
            " 43  Time_With_Curr_Empr           51336 non-null  int64  \n",
            " 44  pct_of_active_TLs_ever        51336 non-null  float64\n",
            " 45  pct_opened_TLs_L6m_of_L12m    51336 non-null  float64\n",
            " 46  pct_currentBal_all_TL         51336 non-null  float64\n",
            " 47  CC_utilization                51336 non-null  float64\n",
            " 48  CC_Flag                       51336 non-null  int64  \n",
            " 49  PL_utilization                51336 non-null  float64\n",
            " 50  PL_Flag                       51336 non-null  int64  \n",
            " 51  pct_PL_enq_L6m_of_L12m        51336 non-null  float64\n",
            " 52  pct_CC_enq_L6m_of_L12m        51336 non-null  float64\n",
            " 53  pct_PL_enq_L6m_of_ever        51336 non-null  float64\n",
            " 54  pct_CC_enq_L6m_of_ever        51336 non-null  float64\n",
            " 55  max_unsec_exposure_inPct      51336 non-null  float64\n",
            " 56  HL_Flag                       51336 non-null  int64  \n",
            " 57  GL_Flag                       51336 non-null  int64  \n",
            " 58  last_prod_enq2                51336 non-null  object \n",
            " 59  first_prod_enq2               51336 non-null  object \n",
            " 60  Credit_Score                  51336 non-null  int64  \n",
            " 61  Approved_Flag                 51336 non-null  object \n",
            "dtypes: float64(10), int64(46), object(6)\n",
            "memory usage: 24.3+ MB\n"
          ]
        }
      ],
      "source": [
        "df2.info()"
      ]
    },
    {
      "cell_type": "code",
      "source": [
        "df2.describe()"
      ],
      "metadata": {
        "colab": {
          "base_uri": "https://localhost:8080/",
          "height": 350
        },
        "id": "8MNBa6qWAizZ",
        "outputId": "6805eb70-7724-4c3e-e88d-a764e0889882"
      },
      "execution_count": 8,
      "outputs": [
        {
          "output_type": "execute_result",
          "data": {
            "text/plain": [
              "         PROSPECTID  time_since_recent_payment  time_since_first_deliquency  \\\n",
              "count  51336.000000               51336.000000                 51336.000000   \n",
              "mean   25668.500000               -8129.961314                -70020.091320   \n",
              "std    14819.571046               27749.328514                 45823.312757   \n",
              "min        1.000000              -99999.000000                -99999.000000   \n",
              "25%    12834.750000                  46.000000                -99999.000000   \n",
              "50%    25668.500000                  70.000000                -99999.000000   \n",
              "75%    38502.250000                 161.000000                     8.000000   \n",
              "max    51336.000000                6065.000000                    35.000000   \n",
              "\n",
              "       time_since_recent_deliquency  num_times_delinquent  \\\n",
              "count                  51336.000000          51336.000000   \n",
              "mean                  -70022.375838              1.573749   \n",
              "std                    45819.820741              4.165012   \n",
              "min                   -99999.000000              0.000000   \n",
              "25%                   -99999.000000              0.000000   \n",
              "50%                   -99999.000000              0.000000   \n",
              "75%                        3.000000              1.000000   \n",
              "max                       35.000000             74.000000   \n",
              "\n",
              "       max_delinquency_level  max_recent_level_of_deliq  num_deliq_6mts  \\\n",
              "count           51336.000000               51336.000000    51336.000000   \n",
              "mean           -70003.987085                  13.521953        0.184977   \n",
              "std             45847.976100                  53.336976        0.710240   \n",
              "min            -99999.000000                   0.000000        0.000000   \n",
              "25%            -99999.000000                   0.000000        0.000000   \n",
              "50%            -99999.000000                   0.000000        0.000000   \n",
              "75%                15.000000                  10.000000        0.000000   \n",
              "max               900.000000                 900.000000       12.000000   \n",
              "\n",
              "       num_deliq_12mts  num_deliq_6_12mts  ...  PL_utilization       PL_Flag  \\\n",
              "count     51336.000000       51336.000000  ...    51336.000000  51336.000000   \n",
              "mean          0.480053           0.295076  ...   -86556.225194      0.167874   \n",
              "std           1.522210           1.027471  ...    34111.414750      0.373758   \n",
              "min           0.000000           0.000000  ...   -99999.000000      0.000000   \n",
              "25%           0.000000           0.000000  ...   -99999.000000      0.000000   \n",
              "50%           0.000000           0.000000  ...   -99999.000000      0.000000   \n",
              "75%           0.000000           0.000000  ...   -99999.000000      0.000000   \n",
              "max          28.000000          20.000000  ...        1.708000      1.000000   \n",
              "\n",
              "       pct_PL_enq_L6m_of_L12m  pct_CC_enq_L6m_of_L12m  pct_PL_enq_L6m_of_ever  \\\n",
              "count            51336.000000            51336.000000            51336.000000   \n",
              "mean                 0.190414                0.065182                0.170492   \n",
              "std                  0.376218                0.235706                0.350209   \n",
              "min                  0.000000                0.000000                0.000000   \n",
              "25%                  0.000000                0.000000                0.000000   \n",
              "50%                  0.000000                0.000000                0.000000   \n",
              "75%                  0.000000                0.000000                0.000000   \n",
              "max                  1.000000                1.000000                1.000000   \n",
              "\n",
              "       pct_CC_enq_L6m_of_ever  max_unsec_exposure_inPct       HL_Flag  \\\n",
              "count            51336.000000              51336.000000  51336.000000   \n",
              "mean                 0.056302             -45127.943635      0.271116   \n",
              "std                  0.213506              49795.784556      0.444540   \n",
              "min                  0.000000             -99999.000000      0.000000   \n",
              "25%                  0.000000             -99999.000000      0.000000   \n",
              "50%                  0.000000                  0.333000      0.000000   \n",
              "75%                  0.000000                  2.164250      1.000000   \n",
              "max                  1.000000             173800.000000      1.000000   \n",
              "\n",
              "            GL_Flag  Credit_Score  \n",
              "count  51336.000000  51336.000000  \n",
              "mean       0.052887    679.859222  \n",
              "std        0.223810     20.502764  \n",
              "min        0.000000    469.000000  \n",
              "25%        0.000000    669.000000  \n",
              "50%        0.000000    680.000000  \n",
              "75%        0.000000    691.000000  \n",
              "max        1.000000    811.000000  \n",
              "\n",
              "[8 rows x 56 columns]"
            ],
            "text/html": [
              "\n",
              "  <div id=\"df-a4363784-7e04-4939-aa72-c319f776cdce\" class=\"colab-df-container\">\n",
              "    <div>\n",
              "<style scoped>\n",
              "    .dataframe tbody tr th:only-of-type {\n",
              "        vertical-align: middle;\n",
              "    }\n",
              "\n",
              "    .dataframe tbody tr th {\n",
              "        vertical-align: top;\n",
              "    }\n",
              "\n",
              "    .dataframe thead th {\n",
              "        text-align: right;\n",
              "    }\n",
              "</style>\n",
              "<table border=\"1\" class=\"dataframe\">\n",
              "  <thead>\n",
              "    <tr style=\"text-align: right;\">\n",
              "      <th></th>\n",
              "      <th>PROSPECTID</th>\n",
              "      <th>time_since_recent_payment</th>\n",
              "      <th>time_since_first_deliquency</th>\n",
              "      <th>time_since_recent_deliquency</th>\n",
              "      <th>num_times_delinquent</th>\n",
              "      <th>max_delinquency_level</th>\n",
              "      <th>max_recent_level_of_deliq</th>\n",
              "      <th>num_deliq_6mts</th>\n",
              "      <th>num_deliq_12mts</th>\n",
              "      <th>num_deliq_6_12mts</th>\n",
              "      <th>...</th>\n",
              "      <th>PL_utilization</th>\n",
              "      <th>PL_Flag</th>\n",
              "      <th>pct_PL_enq_L6m_of_L12m</th>\n",
              "      <th>pct_CC_enq_L6m_of_L12m</th>\n",
              "      <th>pct_PL_enq_L6m_of_ever</th>\n",
              "      <th>pct_CC_enq_L6m_of_ever</th>\n",
              "      <th>max_unsec_exposure_inPct</th>\n",
              "      <th>HL_Flag</th>\n",
              "      <th>GL_Flag</th>\n",
              "      <th>Credit_Score</th>\n",
              "    </tr>\n",
              "  </thead>\n",
              "  <tbody>\n",
              "    <tr>\n",
              "      <th>count</th>\n",
              "      <td>51336.000000</td>\n",
              "      <td>51336.000000</td>\n",
              "      <td>51336.000000</td>\n",
              "      <td>51336.000000</td>\n",
              "      <td>51336.000000</td>\n",
              "      <td>51336.000000</td>\n",
              "      <td>51336.000000</td>\n",
              "      <td>51336.000000</td>\n",
              "      <td>51336.000000</td>\n",
              "      <td>51336.000000</td>\n",
              "      <td>...</td>\n",
              "      <td>51336.000000</td>\n",
              "      <td>51336.000000</td>\n",
              "      <td>51336.000000</td>\n",
              "      <td>51336.000000</td>\n",
              "      <td>51336.000000</td>\n",
              "      <td>51336.000000</td>\n",
              "      <td>51336.000000</td>\n",
              "      <td>51336.000000</td>\n",
              "      <td>51336.000000</td>\n",
              "      <td>51336.000000</td>\n",
              "    </tr>\n",
              "    <tr>\n",
              "      <th>mean</th>\n",
              "      <td>25668.500000</td>\n",
              "      <td>-8129.961314</td>\n",
              "      <td>-70020.091320</td>\n",
              "      <td>-70022.375838</td>\n",
              "      <td>1.573749</td>\n",
              "      <td>-70003.987085</td>\n",
              "      <td>13.521953</td>\n",
              "      <td>0.184977</td>\n",
              "      <td>0.480053</td>\n",
              "      <td>0.295076</td>\n",
              "      <td>...</td>\n",
              "      <td>-86556.225194</td>\n",
              "      <td>0.167874</td>\n",
              "      <td>0.190414</td>\n",
              "      <td>0.065182</td>\n",
              "      <td>0.170492</td>\n",
              "      <td>0.056302</td>\n",
              "      <td>-45127.943635</td>\n",
              "      <td>0.271116</td>\n",
              "      <td>0.052887</td>\n",
              "      <td>679.859222</td>\n",
              "    </tr>\n",
              "    <tr>\n",
              "      <th>std</th>\n",
              "      <td>14819.571046</td>\n",
              "      <td>27749.328514</td>\n",
              "      <td>45823.312757</td>\n",
              "      <td>45819.820741</td>\n",
              "      <td>4.165012</td>\n",
              "      <td>45847.976100</td>\n",
              "      <td>53.336976</td>\n",
              "      <td>0.710240</td>\n",
              "      <td>1.522210</td>\n",
              "      <td>1.027471</td>\n",
              "      <td>...</td>\n",
              "      <td>34111.414750</td>\n",
              "      <td>0.373758</td>\n",
              "      <td>0.376218</td>\n",
              "      <td>0.235706</td>\n",
              "      <td>0.350209</td>\n",
              "      <td>0.213506</td>\n",
              "      <td>49795.784556</td>\n",
              "      <td>0.444540</td>\n",
              "      <td>0.223810</td>\n",
              "      <td>20.502764</td>\n",
              "    </tr>\n",
              "    <tr>\n",
              "      <th>min</th>\n",
              "      <td>1.000000</td>\n",
              "      <td>-99999.000000</td>\n",
              "      <td>-99999.000000</td>\n",
              "      <td>-99999.000000</td>\n",
              "      <td>0.000000</td>\n",
              "      <td>-99999.000000</td>\n",
              "      <td>0.000000</td>\n",
              "      <td>0.000000</td>\n",
              "      <td>0.000000</td>\n",
              "      <td>0.000000</td>\n",
              "      <td>...</td>\n",
              "      <td>-99999.000000</td>\n",
              "      <td>0.000000</td>\n",
              "      <td>0.000000</td>\n",
              "      <td>0.000000</td>\n",
              "      <td>0.000000</td>\n",
              "      <td>0.000000</td>\n",
              "      <td>-99999.000000</td>\n",
              "      <td>0.000000</td>\n",
              "      <td>0.000000</td>\n",
              "      <td>469.000000</td>\n",
              "    </tr>\n",
              "    <tr>\n",
              "      <th>25%</th>\n",
              "      <td>12834.750000</td>\n",
              "      <td>46.000000</td>\n",
              "      <td>-99999.000000</td>\n",
              "      <td>-99999.000000</td>\n",
              "      <td>0.000000</td>\n",
              "      <td>-99999.000000</td>\n",
              "      <td>0.000000</td>\n",
              "      <td>0.000000</td>\n",
              "      <td>0.000000</td>\n",
              "      <td>0.000000</td>\n",
              "      <td>...</td>\n",
              "      <td>-99999.000000</td>\n",
              "      <td>0.000000</td>\n",
              "      <td>0.000000</td>\n",
              "      <td>0.000000</td>\n",
              "      <td>0.000000</td>\n",
              "      <td>0.000000</td>\n",
              "      <td>-99999.000000</td>\n",
              "      <td>0.000000</td>\n",
              "      <td>0.000000</td>\n",
              "      <td>669.000000</td>\n",
              "    </tr>\n",
              "    <tr>\n",
              "      <th>50%</th>\n",
              "      <td>25668.500000</td>\n",
              "      <td>70.000000</td>\n",
              "      <td>-99999.000000</td>\n",
              "      <td>-99999.000000</td>\n",
              "      <td>0.000000</td>\n",
              "      <td>-99999.000000</td>\n",
              "      <td>0.000000</td>\n",
              "      <td>0.000000</td>\n",
              "      <td>0.000000</td>\n",
              "      <td>0.000000</td>\n",
              "      <td>...</td>\n",
              "      <td>-99999.000000</td>\n",
              "      <td>0.000000</td>\n",
              "      <td>0.000000</td>\n",
              "      <td>0.000000</td>\n",
              "      <td>0.000000</td>\n",
              "      <td>0.000000</td>\n",
              "      <td>0.333000</td>\n",
              "      <td>0.000000</td>\n",
              "      <td>0.000000</td>\n",
              "      <td>680.000000</td>\n",
              "    </tr>\n",
              "    <tr>\n",
              "      <th>75%</th>\n",
              "      <td>38502.250000</td>\n",
              "      <td>161.000000</td>\n",
              "      <td>8.000000</td>\n",
              "      <td>3.000000</td>\n",
              "      <td>1.000000</td>\n",
              "      <td>15.000000</td>\n",
              "      <td>10.000000</td>\n",
              "      <td>0.000000</td>\n",
              "      <td>0.000000</td>\n",
              "      <td>0.000000</td>\n",
              "      <td>...</td>\n",
              "      <td>-99999.000000</td>\n",
              "      <td>0.000000</td>\n",
              "      <td>0.000000</td>\n",
              "      <td>0.000000</td>\n",
              "      <td>0.000000</td>\n",
              "      <td>0.000000</td>\n",
              "      <td>2.164250</td>\n",
              "      <td>1.000000</td>\n",
              "      <td>0.000000</td>\n",
              "      <td>691.000000</td>\n",
              "    </tr>\n",
              "    <tr>\n",
              "      <th>max</th>\n",
              "      <td>51336.000000</td>\n",
              "      <td>6065.000000</td>\n",
              "      <td>35.000000</td>\n",
              "      <td>35.000000</td>\n",
              "      <td>74.000000</td>\n",
              "      <td>900.000000</td>\n",
              "      <td>900.000000</td>\n",
              "      <td>12.000000</td>\n",
              "      <td>28.000000</td>\n",
              "      <td>20.000000</td>\n",
              "      <td>...</td>\n",
              "      <td>1.708000</td>\n",
              "      <td>1.000000</td>\n",
              "      <td>1.000000</td>\n",
              "      <td>1.000000</td>\n",
              "      <td>1.000000</td>\n",
              "      <td>1.000000</td>\n",
              "      <td>173800.000000</td>\n",
              "      <td>1.000000</td>\n",
              "      <td>1.000000</td>\n",
              "      <td>811.000000</td>\n",
              "    </tr>\n",
              "  </tbody>\n",
              "</table>\n",
              "<p>8 rows × 56 columns</p>\n",
              "</div>\n",
              "    <div class=\"colab-df-buttons\">\n",
              "\n",
              "  <div class=\"colab-df-container\">\n",
              "    <button class=\"colab-df-convert\" onclick=\"convertToInteractive('df-a4363784-7e04-4939-aa72-c319f776cdce')\"\n",
              "            title=\"Convert this dataframe to an interactive table.\"\n",
              "            style=\"display:none;\">\n",
              "\n",
              "  <svg xmlns=\"http://www.w3.org/2000/svg\" height=\"24px\" viewBox=\"0 -960 960 960\">\n",
              "    <path d=\"M120-120v-720h720v720H120Zm60-500h600v-160H180v160Zm220 220h160v-160H400v160Zm0 220h160v-160H400v160ZM180-400h160v-160H180v160Zm440 0h160v-160H620v160ZM180-180h160v-160H180v160Zm440 0h160v-160H620v160Z\"/>\n",
              "  </svg>\n",
              "    </button>\n",
              "\n",
              "  <style>\n",
              "    .colab-df-container {\n",
              "      display:flex;\n",
              "      gap: 12px;\n",
              "    }\n",
              "\n",
              "    .colab-df-convert {\n",
              "      background-color: #E8F0FE;\n",
              "      border: none;\n",
              "      border-radius: 50%;\n",
              "      cursor: pointer;\n",
              "      display: none;\n",
              "      fill: #1967D2;\n",
              "      height: 32px;\n",
              "      padding: 0 0 0 0;\n",
              "      width: 32px;\n",
              "    }\n",
              "\n",
              "    .colab-df-convert:hover {\n",
              "      background-color: #E2EBFA;\n",
              "      box-shadow: 0px 1px 2px rgba(60, 64, 67, 0.3), 0px 1px 3px 1px rgba(60, 64, 67, 0.15);\n",
              "      fill: #174EA6;\n",
              "    }\n",
              "\n",
              "    .colab-df-buttons div {\n",
              "      margin-bottom: 4px;\n",
              "    }\n",
              "\n",
              "    [theme=dark] .colab-df-convert {\n",
              "      background-color: #3B4455;\n",
              "      fill: #D2E3FC;\n",
              "    }\n",
              "\n",
              "    [theme=dark] .colab-df-convert:hover {\n",
              "      background-color: #434B5C;\n",
              "      box-shadow: 0px 1px 3px 1px rgba(0, 0, 0, 0.15);\n",
              "      filter: drop-shadow(0px 1px 2px rgba(0, 0, 0, 0.3));\n",
              "      fill: #FFFFFF;\n",
              "    }\n",
              "  </style>\n",
              "\n",
              "    <script>\n",
              "      const buttonEl =\n",
              "        document.querySelector('#df-a4363784-7e04-4939-aa72-c319f776cdce button.colab-df-convert');\n",
              "      buttonEl.style.display =\n",
              "        google.colab.kernel.accessAllowed ? 'block' : 'none';\n",
              "\n",
              "      async function convertToInteractive(key) {\n",
              "        const element = document.querySelector('#df-a4363784-7e04-4939-aa72-c319f776cdce');\n",
              "        const dataTable =\n",
              "          await google.colab.kernel.invokeFunction('convertToInteractive',\n",
              "                                                    [key], {});\n",
              "        if (!dataTable) return;\n",
              "\n",
              "        const docLinkHtml = 'Like what you see? Visit the ' +\n",
              "          '<a target=\"_blank\" href=https://colab.research.google.com/notebooks/data_table.ipynb>data table notebook</a>'\n",
              "          + ' to learn more about interactive tables.';\n",
              "        element.innerHTML = '';\n",
              "        dataTable['output_type'] = 'display_data';\n",
              "        await google.colab.output.renderOutput(dataTable, element);\n",
              "        const docLink = document.createElement('div');\n",
              "        docLink.innerHTML = docLinkHtml;\n",
              "        element.appendChild(docLink);\n",
              "      }\n",
              "    </script>\n",
              "  </div>\n",
              "\n",
              "\n",
              "<div id=\"df-b74380f2-3653-455c-9f29-4b04fd3edc73\">\n",
              "  <button class=\"colab-df-quickchart\" onclick=\"quickchart('df-b74380f2-3653-455c-9f29-4b04fd3edc73')\"\n",
              "            title=\"Suggest charts\"\n",
              "            style=\"display:none;\">\n",
              "\n",
              "<svg xmlns=\"http://www.w3.org/2000/svg\" height=\"24px\"viewBox=\"0 0 24 24\"\n",
              "     width=\"24px\">\n",
              "    <g>\n",
              "        <path d=\"M19 3H5c-1.1 0-2 .9-2 2v14c0 1.1.9 2 2 2h14c1.1 0 2-.9 2-2V5c0-1.1-.9-2-2-2zM9 17H7v-7h2v7zm4 0h-2V7h2v10zm4 0h-2v-4h2v4z\"/>\n",
              "    </g>\n",
              "</svg>\n",
              "  </button>\n",
              "\n",
              "<style>\n",
              "  .colab-df-quickchart {\n",
              "      --bg-color: #E8F0FE;\n",
              "      --fill-color: #1967D2;\n",
              "      --hover-bg-color: #E2EBFA;\n",
              "      --hover-fill-color: #174EA6;\n",
              "      --disabled-fill-color: #AAA;\n",
              "      --disabled-bg-color: #DDD;\n",
              "  }\n",
              "\n",
              "  [theme=dark] .colab-df-quickchart {\n",
              "      --bg-color: #3B4455;\n",
              "      --fill-color: #D2E3FC;\n",
              "      --hover-bg-color: #434B5C;\n",
              "      --hover-fill-color: #FFFFFF;\n",
              "      --disabled-bg-color: #3B4455;\n",
              "      --disabled-fill-color: #666;\n",
              "  }\n",
              "\n",
              "  .colab-df-quickchart {\n",
              "    background-color: var(--bg-color);\n",
              "    border: none;\n",
              "    border-radius: 50%;\n",
              "    cursor: pointer;\n",
              "    display: none;\n",
              "    fill: var(--fill-color);\n",
              "    height: 32px;\n",
              "    padding: 0;\n",
              "    width: 32px;\n",
              "  }\n",
              "\n",
              "  .colab-df-quickchart:hover {\n",
              "    background-color: var(--hover-bg-color);\n",
              "    box-shadow: 0 1px 2px rgba(60, 64, 67, 0.3), 0 1px 3px 1px rgba(60, 64, 67, 0.15);\n",
              "    fill: var(--button-hover-fill-color);\n",
              "  }\n",
              "\n",
              "  .colab-df-quickchart-complete:disabled,\n",
              "  .colab-df-quickchart-complete:disabled:hover {\n",
              "    background-color: var(--disabled-bg-color);\n",
              "    fill: var(--disabled-fill-color);\n",
              "    box-shadow: none;\n",
              "  }\n",
              "\n",
              "  .colab-df-spinner {\n",
              "    border: 2px solid var(--fill-color);\n",
              "    border-color: transparent;\n",
              "    border-bottom-color: var(--fill-color);\n",
              "    animation:\n",
              "      spin 1s steps(1) infinite;\n",
              "  }\n",
              "\n",
              "  @keyframes spin {\n",
              "    0% {\n",
              "      border-color: transparent;\n",
              "      border-bottom-color: var(--fill-color);\n",
              "      border-left-color: var(--fill-color);\n",
              "    }\n",
              "    20% {\n",
              "      border-color: transparent;\n",
              "      border-left-color: var(--fill-color);\n",
              "      border-top-color: var(--fill-color);\n",
              "    }\n",
              "    30% {\n",
              "      border-color: transparent;\n",
              "      border-left-color: var(--fill-color);\n",
              "      border-top-color: var(--fill-color);\n",
              "      border-right-color: var(--fill-color);\n",
              "    }\n",
              "    40% {\n",
              "      border-color: transparent;\n",
              "      border-right-color: var(--fill-color);\n",
              "      border-top-color: var(--fill-color);\n",
              "    }\n",
              "    60% {\n",
              "      border-color: transparent;\n",
              "      border-right-color: var(--fill-color);\n",
              "    }\n",
              "    80% {\n",
              "      border-color: transparent;\n",
              "      border-right-color: var(--fill-color);\n",
              "      border-bottom-color: var(--fill-color);\n",
              "    }\n",
              "    90% {\n",
              "      border-color: transparent;\n",
              "      border-bottom-color: var(--fill-color);\n",
              "    }\n",
              "  }\n",
              "</style>\n",
              "\n",
              "  <script>\n",
              "    async function quickchart(key) {\n",
              "      const quickchartButtonEl =\n",
              "        document.querySelector('#' + key + ' button');\n",
              "      quickchartButtonEl.disabled = true;  // To prevent multiple clicks.\n",
              "      quickchartButtonEl.classList.add('colab-df-spinner');\n",
              "      try {\n",
              "        const charts = await google.colab.kernel.invokeFunction(\n",
              "            'suggestCharts', [key], {});\n",
              "      } catch (error) {\n",
              "        console.error('Error during call to suggestCharts:', error);\n",
              "      }\n",
              "      quickchartButtonEl.classList.remove('colab-df-spinner');\n",
              "      quickchartButtonEl.classList.add('colab-df-quickchart-complete');\n",
              "    }\n",
              "    (() => {\n",
              "      let quickchartButtonEl =\n",
              "        document.querySelector('#df-b74380f2-3653-455c-9f29-4b04fd3edc73 button');\n",
              "      quickchartButtonEl.style.display =\n",
              "        google.colab.kernel.accessAllowed ? 'block' : 'none';\n",
              "    })();\n",
              "  </script>\n",
              "</div>\n",
              "\n",
              "    </div>\n",
              "  </div>\n"
            ],
            "application/vnd.google.colaboratory.intrinsic+json": {
              "type": "dataframe"
            }
          },
          "metadata": {},
          "execution_count": 8
        }
      ]
    },
    {
      "cell_type": "code",
      "source": [
        "df1.isna().sum()"
      ],
      "metadata": {
        "colab": {
          "base_uri": "https://localhost:8080/",
          "height": 899
        },
        "id": "mn0vjM25A5aR",
        "outputId": "0e9f7c73-a121-468c-95f1-93f0c884642f"
      },
      "execution_count": 9,
      "outputs": [
        {
          "output_type": "execute_result",
          "data": {
            "text/plain": [
              "PROSPECTID              0\n",
              "Total_TL                0\n",
              "Tot_Closed_TL           0\n",
              "Tot_Active_TL           0\n",
              "Total_TL_opened_L6M     0\n",
              "Tot_TL_closed_L6M       0\n",
              "pct_tl_open_L6M         0\n",
              "pct_tl_closed_L6M       0\n",
              "pct_active_tl           0\n",
              "pct_closed_tl           0\n",
              "Total_TL_opened_L12M    0\n",
              "Tot_TL_closed_L12M      0\n",
              "pct_tl_open_L12M        0\n",
              "pct_tl_closed_L12M      0\n",
              "Tot_Missed_Pmnt         0\n",
              "Auto_TL                 0\n",
              "CC_TL                   0\n",
              "Consumer_TL             0\n",
              "Gold_TL                 0\n",
              "Home_TL                 0\n",
              "PL_TL                   0\n",
              "Secured_TL              0\n",
              "Unsecured_TL            0\n",
              "Other_TL                0\n",
              "Age_Oldest_TL           0\n",
              "Age_Newest_TL           0\n",
              "dtype: int64"
            ],
            "text/html": [
              "<div>\n",
              "<style scoped>\n",
              "    .dataframe tbody tr th:only-of-type {\n",
              "        vertical-align: middle;\n",
              "    }\n",
              "\n",
              "    .dataframe tbody tr th {\n",
              "        vertical-align: top;\n",
              "    }\n",
              "\n",
              "    .dataframe thead th {\n",
              "        text-align: right;\n",
              "    }\n",
              "</style>\n",
              "<table border=\"1\" class=\"dataframe\">\n",
              "  <thead>\n",
              "    <tr style=\"text-align: right;\">\n",
              "      <th></th>\n",
              "      <th>0</th>\n",
              "    </tr>\n",
              "  </thead>\n",
              "  <tbody>\n",
              "    <tr>\n",
              "      <th>PROSPECTID</th>\n",
              "      <td>0</td>\n",
              "    </tr>\n",
              "    <tr>\n",
              "      <th>Total_TL</th>\n",
              "      <td>0</td>\n",
              "    </tr>\n",
              "    <tr>\n",
              "      <th>Tot_Closed_TL</th>\n",
              "      <td>0</td>\n",
              "    </tr>\n",
              "    <tr>\n",
              "      <th>Tot_Active_TL</th>\n",
              "      <td>0</td>\n",
              "    </tr>\n",
              "    <tr>\n",
              "      <th>Total_TL_opened_L6M</th>\n",
              "      <td>0</td>\n",
              "    </tr>\n",
              "    <tr>\n",
              "      <th>Tot_TL_closed_L6M</th>\n",
              "      <td>0</td>\n",
              "    </tr>\n",
              "    <tr>\n",
              "      <th>pct_tl_open_L6M</th>\n",
              "      <td>0</td>\n",
              "    </tr>\n",
              "    <tr>\n",
              "      <th>pct_tl_closed_L6M</th>\n",
              "      <td>0</td>\n",
              "    </tr>\n",
              "    <tr>\n",
              "      <th>pct_active_tl</th>\n",
              "      <td>0</td>\n",
              "    </tr>\n",
              "    <tr>\n",
              "      <th>pct_closed_tl</th>\n",
              "      <td>0</td>\n",
              "    </tr>\n",
              "    <tr>\n",
              "      <th>Total_TL_opened_L12M</th>\n",
              "      <td>0</td>\n",
              "    </tr>\n",
              "    <tr>\n",
              "      <th>Tot_TL_closed_L12M</th>\n",
              "      <td>0</td>\n",
              "    </tr>\n",
              "    <tr>\n",
              "      <th>pct_tl_open_L12M</th>\n",
              "      <td>0</td>\n",
              "    </tr>\n",
              "    <tr>\n",
              "      <th>pct_tl_closed_L12M</th>\n",
              "      <td>0</td>\n",
              "    </tr>\n",
              "    <tr>\n",
              "      <th>Tot_Missed_Pmnt</th>\n",
              "      <td>0</td>\n",
              "    </tr>\n",
              "    <tr>\n",
              "      <th>Auto_TL</th>\n",
              "      <td>0</td>\n",
              "    </tr>\n",
              "    <tr>\n",
              "      <th>CC_TL</th>\n",
              "      <td>0</td>\n",
              "    </tr>\n",
              "    <tr>\n",
              "      <th>Consumer_TL</th>\n",
              "      <td>0</td>\n",
              "    </tr>\n",
              "    <tr>\n",
              "      <th>Gold_TL</th>\n",
              "      <td>0</td>\n",
              "    </tr>\n",
              "    <tr>\n",
              "      <th>Home_TL</th>\n",
              "      <td>0</td>\n",
              "    </tr>\n",
              "    <tr>\n",
              "      <th>PL_TL</th>\n",
              "      <td>0</td>\n",
              "    </tr>\n",
              "    <tr>\n",
              "      <th>Secured_TL</th>\n",
              "      <td>0</td>\n",
              "    </tr>\n",
              "    <tr>\n",
              "      <th>Unsecured_TL</th>\n",
              "      <td>0</td>\n",
              "    </tr>\n",
              "    <tr>\n",
              "      <th>Other_TL</th>\n",
              "      <td>0</td>\n",
              "    </tr>\n",
              "    <tr>\n",
              "      <th>Age_Oldest_TL</th>\n",
              "      <td>0</td>\n",
              "    </tr>\n",
              "    <tr>\n",
              "      <th>Age_Newest_TL</th>\n",
              "      <td>0</td>\n",
              "    </tr>\n",
              "  </tbody>\n",
              "</table>\n",
              "</div><br><label><b>dtype:</b> int64</label>"
            ]
          },
          "metadata": {},
          "execution_count": 9
        }
      ]
    },
    {
      "cell_type": "code",
      "source": [
        "df2.isna().sum()"
      ],
      "metadata": {
        "colab": {
          "base_uri": "https://localhost:8080/",
          "height": 458
        },
        "id": "oeRlzCDgA9qP",
        "outputId": "9fd11d1f-cc29-495a-b532-b66cdf9da837"
      },
      "execution_count": 10,
      "outputs": [
        {
          "output_type": "execute_result",
          "data": {
            "text/plain": [
              "PROSPECTID                      0\n",
              "time_since_recent_payment       0\n",
              "time_since_first_deliquency     0\n",
              "time_since_recent_deliquency    0\n",
              "num_times_delinquent            0\n",
              "                               ..\n",
              "GL_Flag                         0\n",
              "last_prod_enq2                  0\n",
              "first_prod_enq2                 0\n",
              "Credit_Score                    0\n",
              "Approved_Flag                   0\n",
              "Length: 62, dtype: int64"
            ],
            "text/html": [
              "<div>\n",
              "<style scoped>\n",
              "    .dataframe tbody tr th:only-of-type {\n",
              "        vertical-align: middle;\n",
              "    }\n",
              "\n",
              "    .dataframe tbody tr th {\n",
              "        vertical-align: top;\n",
              "    }\n",
              "\n",
              "    .dataframe thead th {\n",
              "        text-align: right;\n",
              "    }\n",
              "</style>\n",
              "<table border=\"1\" class=\"dataframe\">\n",
              "  <thead>\n",
              "    <tr style=\"text-align: right;\">\n",
              "      <th></th>\n",
              "      <th>0</th>\n",
              "    </tr>\n",
              "  </thead>\n",
              "  <tbody>\n",
              "    <tr>\n",
              "      <th>PROSPECTID</th>\n",
              "      <td>0</td>\n",
              "    </tr>\n",
              "    <tr>\n",
              "      <th>time_since_recent_payment</th>\n",
              "      <td>0</td>\n",
              "    </tr>\n",
              "    <tr>\n",
              "      <th>time_since_first_deliquency</th>\n",
              "      <td>0</td>\n",
              "    </tr>\n",
              "    <tr>\n",
              "      <th>time_since_recent_deliquency</th>\n",
              "      <td>0</td>\n",
              "    </tr>\n",
              "    <tr>\n",
              "      <th>num_times_delinquent</th>\n",
              "      <td>0</td>\n",
              "    </tr>\n",
              "    <tr>\n",
              "      <th>...</th>\n",
              "      <td>...</td>\n",
              "    </tr>\n",
              "    <tr>\n",
              "      <th>GL_Flag</th>\n",
              "      <td>0</td>\n",
              "    </tr>\n",
              "    <tr>\n",
              "      <th>last_prod_enq2</th>\n",
              "      <td>0</td>\n",
              "    </tr>\n",
              "    <tr>\n",
              "      <th>first_prod_enq2</th>\n",
              "      <td>0</td>\n",
              "    </tr>\n",
              "    <tr>\n",
              "      <th>Credit_Score</th>\n",
              "      <td>0</td>\n",
              "    </tr>\n",
              "    <tr>\n",
              "      <th>Approved_Flag</th>\n",
              "      <td>0</td>\n",
              "    </tr>\n",
              "  </tbody>\n",
              "</table>\n",
              "<p>62 rows × 1 columns</p>\n",
              "</div><br><label><b>dtype:</b> int64</label>"
            ]
          },
          "metadata": {},
          "execution_count": 10
        }
      ]
    },
    {
      "cell_type": "markdown",
      "metadata": {
        "id": "Lh4Rs9AMafez"
      },
      "source": [
        "1. **Import the pandas library**: Before you can use `pandas`, you need to import it. This is typically done at the beginning of your script or notebook. The `pandas` library is imported with the alias `pd`, which is a common convention and allows for shorter code when calling `pandas` functions.\n",
        "\n",
        "2. **Load the datasets**: The `pd.read_excel()` function is used to read Excel files. The path to each file is provided as a string argument. In this case, two Excel files, `case_study1.xlsx` and `case_study2.xlsx`, are loaded from the `./dataset/` directory. The result of `pd.read_excel()` is a `DataFrame`, which is a 2-dimensional labeled data structure with columns of potentially different types. `a1` and `a2` are variables that store these `DataFrame` objects.\n",
        "\n",
        "3. **Create copies of the dataframes**: The `.copy()` method creates a copy of each `DataFrame`. This is useful if you want to preserve the original dataframes (`a1` and `a2`) without modification, allowing you to work with and modify the copies (`df1` and `df2`) instead. This can help prevent accidental changes to the original data.\n"
      ]
    },
    {
      "cell_type": "code",
      "source": [
        "df1.columns"
      ],
      "metadata": {
        "colab": {
          "base_uri": "https://localhost:8080/"
        },
        "id": "hpb8OPQeBLI8",
        "outputId": "1da5cc25-ef71-4fa5-a1b1-798d6edd1114"
      },
      "execution_count": 11,
      "outputs": [
        {
          "output_type": "execute_result",
          "data": {
            "text/plain": [
              "Index(['PROSPECTID', 'Total_TL', 'Tot_Closed_TL', 'Tot_Active_TL',\n",
              "       'Total_TL_opened_L6M', 'Tot_TL_closed_L6M', 'pct_tl_open_L6M',\n",
              "       'pct_tl_closed_L6M', 'pct_active_tl', 'pct_closed_tl',\n",
              "       'Total_TL_opened_L12M', 'Tot_TL_closed_L12M', 'pct_tl_open_L12M',\n",
              "       'pct_tl_closed_L12M', 'Tot_Missed_Pmnt', 'Auto_TL', 'CC_TL',\n",
              "       'Consumer_TL', 'Gold_TL', 'Home_TL', 'PL_TL', 'Secured_TL',\n",
              "       'Unsecured_TL', 'Other_TL', 'Age_Oldest_TL', 'Age_Newest_TL'],\n",
              "      dtype='object')"
            ]
          },
          "metadata": {},
          "execution_count": 11
        }
      ]
    },
    {
      "cell_type": "code",
      "source": [
        "df1[df1['Age_Oldest_TL'] != -99999].count() # 51296 number of rows have non -99999 value."
      ],
      "metadata": {
        "colab": {
          "base_uri": "https://localhost:8080/",
          "height": 899
        },
        "id": "tByQmqM7BYua",
        "outputId": "4c7ede44-78ba-4529-d274-fbc8c8ac19f3"
      },
      "execution_count": 12,
      "outputs": [
        {
          "output_type": "execute_result",
          "data": {
            "text/plain": [
              "PROSPECTID              51296\n",
              "Total_TL                51296\n",
              "Tot_Closed_TL           51296\n",
              "Tot_Active_TL           51296\n",
              "Total_TL_opened_L6M     51296\n",
              "Tot_TL_closed_L6M       51296\n",
              "pct_tl_open_L6M         51296\n",
              "pct_tl_closed_L6M       51296\n",
              "pct_active_tl           51296\n",
              "pct_closed_tl           51296\n",
              "Total_TL_opened_L12M    51296\n",
              "Tot_TL_closed_L12M      51296\n",
              "pct_tl_open_L12M        51296\n",
              "pct_tl_closed_L12M      51296\n",
              "Tot_Missed_Pmnt         51296\n",
              "Auto_TL                 51296\n",
              "CC_TL                   51296\n",
              "Consumer_TL             51296\n",
              "Gold_TL                 51296\n",
              "Home_TL                 51296\n",
              "PL_TL                   51296\n",
              "Secured_TL              51296\n",
              "Unsecured_TL            51296\n",
              "Other_TL                51296\n",
              "Age_Oldest_TL           51296\n",
              "Age_Newest_TL           51296\n",
              "dtype: int64"
            ],
            "text/html": [
              "<div>\n",
              "<style scoped>\n",
              "    .dataframe tbody tr th:only-of-type {\n",
              "        vertical-align: middle;\n",
              "    }\n",
              "\n",
              "    .dataframe tbody tr th {\n",
              "        vertical-align: top;\n",
              "    }\n",
              "\n",
              "    .dataframe thead th {\n",
              "        text-align: right;\n",
              "    }\n",
              "</style>\n",
              "<table border=\"1\" class=\"dataframe\">\n",
              "  <thead>\n",
              "    <tr style=\"text-align: right;\">\n",
              "      <th></th>\n",
              "      <th>0</th>\n",
              "    </tr>\n",
              "  </thead>\n",
              "  <tbody>\n",
              "    <tr>\n",
              "      <th>PROSPECTID</th>\n",
              "      <td>51296</td>\n",
              "    </tr>\n",
              "    <tr>\n",
              "      <th>Total_TL</th>\n",
              "      <td>51296</td>\n",
              "    </tr>\n",
              "    <tr>\n",
              "      <th>Tot_Closed_TL</th>\n",
              "      <td>51296</td>\n",
              "    </tr>\n",
              "    <tr>\n",
              "      <th>Tot_Active_TL</th>\n",
              "      <td>51296</td>\n",
              "    </tr>\n",
              "    <tr>\n",
              "      <th>Total_TL_opened_L6M</th>\n",
              "      <td>51296</td>\n",
              "    </tr>\n",
              "    <tr>\n",
              "      <th>Tot_TL_closed_L6M</th>\n",
              "      <td>51296</td>\n",
              "    </tr>\n",
              "    <tr>\n",
              "      <th>pct_tl_open_L6M</th>\n",
              "      <td>51296</td>\n",
              "    </tr>\n",
              "    <tr>\n",
              "      <th>pct_tl_closed_L6M</th>\n",
              "      <td>51296</td>\n",
              "    </tr>\n",
              "    <tr>\n",
              "      <th>pct_active_tl</th>\n",
              "      <td>51296</td>\n",
              "    </tr>\n",
              "    <tr>\n",
              "      <th>pct_closed_tl</th>\n",
              "      <td>51296</td>\n",
              "    </tr>\n",
              "    <tr>\n",
              "      <th>Total_TL_opened_L12M</th>\n",
              "      <td>51296</td>\n",
              "    </tr>\n",
              "    <tr>\n",
              "      <th>Tot_TL_closed_L12M</th>\n",
              "      <td>51296</td>\n",
              "    </tr>\n",
              "    <tr>\n",
              "      <th>pct_tl_open_L12M</th>\n",
              "      <td>51296</td>\n",
              "    </tr>\n",
              "    <tr>\n",
              "      <th>pct_tl_closed_L12M</th>\n",
              "      <td>51296</td>\n",
              "    </tr>\n",
              "    <tr>\n",
              "      <th>Tot_Missed_Pmnt</th>\n",
              "      <td>51296</td>\n",
              "    </tr>\n",
              "    <tr>\n",
              "      <th>Auto_TL</th>\n",
              "      <td>51296</td>\n",
              "    </tr>\n",
              "    <tr>\n",
              "      <th>CC_TL</th>\n",
              "      <td>51296</td>\n",
              "    </tr>\n",
              "    <tr>\n",
              "      <th>Consumer_TL</th>\n",
              "      <td>51296</td>\n",
              "    </tr>\n",
              "    <tr>\n",
              "      <th>Gold_TL</th>\n",
              "      <td>51296</td>\n",
              "    </tr>\n",
              "    <tr>\n",
              "      <th>Home_TL</th>\n",
              "      <td>51296</td>\n",
              "    </tr>\n",
              "    <tr>\n",
              "      <th>PL_TL</th>\n",
              "      <td>51296</td>\n",
              "    </tr>\n",
              "    <tr>\n",
              "      <th>Secured_TL</th>\n",
              "      <td>51296</td>\n",
              "    </tr>\n",
              "    <tr>\n",
              "      <th>Unsecured_TL</th>\n",
              "      <td>51296</td>\n",
              "    </tr>\n",
              "    <tr>\n",
              "      <th>Other_TL</th>\n",
              "      <td>51296</td>\n",
              "    </tr>\n",
              "    <tr>\n",
              "      <th>Age_Oldest_TL</th>\n",
              "      <td>51296</td>\n",
              "    </tr>\n",
              "    <tr>\n",
              "      <th>Age_Newest_TL</th>\n",
              "      <td>51296</td>\n",
              "    </tr>\n",
              "  </tbody>\n",
              "</table>\n",
              "</div><br><label><b>dtype:</b> int64</label>"
            ]
          },
          "metadata": {},
          "execution_count": 12
        }
      ]
    },
    {
      "cell_type": "code",
      "execution_count": 13,
      "metadata": {
        "id": "G9NUtovjafez"
      },
      "outputs": [],
      "source": [
        "# Remove nulls\n",
        "df1 = df1.loc[df1['Age_Oldest_TL'] != -99999]"
      ]
    },
    {
      "cell_type": "markdown",
      "metadata": {
        "id": "8WWV9JDaafez"
      },
      "source": [
        "\n",
        "1. **`df1.loc[]`**: This is a way to access a group of rows and columns by label(s) or a boolean array in the DataFrame `df1`. `.loc[]` is primarily label based, but it can also be used with a boolean array.\n",
        "\n",
        "2. **`df1['Age_Oldest_TL'] != -99999`**: This condition checks each value in the 'Age_Oldest_TL' column of `df1` to see if it is not equal to `-99999`. The comparison produces a boolean array (True or False values) where each value represents whether the condition is met for each row.\n",
        "\n",
        "3. **`df1 = df1.loc[df1['Age_Oldest_TL'] != -99999]`**: The boolean array from step 2 is passed to `.loc[]`, which filters `df1` to only include rows where the condition is True (i.e., rows where 'Age_Oldest_TL' is not `-99999`). The result of this operation (a DataFrame with the rows where 'Age_Oldest_TL' is not `-99999`) is then assigned back to `df1`, effectively updating `df1` to exclude rows with 'Age_Oldest_TL' equal to `-99999`.\n",
        "\n",
        "This operation is commonly used in data preprocessing to remove rows with placeholder or missing values that are represented by a specific number (in this case, `-99999`). By removing these rows, you can clean your dataset and prepare it for further analysis or modeling."
      ]
    },
    {
      "cell_type": "code",
      "execution_count": 14,
      "metadata": {
        "id": "AuQQglfcafez"
      },
      "outputs": [],
      "source": [
        "columns_to_be_removed = []\n",
        "\n",
        "for i in df2.columns:\n",
        "    if df2.loc[df2[i] == -99999].shape[0] > 10000:\n",
        "        columns_to_be_removed .append(i)\n"
      ]
    },
    {
      "cell_type": "markdown",
      "metadata": {
        "id": "q321_7Wqafez"
      },
      "source": [
        "This code snippet is written in Python and seems to be performing a filtering operation on a DataFrame called `df2`. It iterates through each column of `df2` and checks if the number of rows where the value is equal to -99999 is greater than 10,000. If this condition is met, the corresponding column name is added to a list called `columns_to_be_removed`.\n",
        "\n",
        "Here's a breakdown of what the code does:\n",
        "\n",
        "1. **Initialize an empty list:** `columns_to_be_removed` is initialized as an empty list to store the names of columns that will be removed.\n",
        "\n",
        "2. **Iterate through columns:** The `for` loop iterates through each column name (`i`) in the `df2` DataFrame.\n",
        "\n",
        "3. **Check condition:** Inside the loop, the condition `df2.loc[df2[i] == -99999].shape[0] > 10000` is evaluated. This checks if the number of rows where the value in the current column (`i`) is equal to -99999 is greater than 10,000.\n",
        "\n",
        "4. **Append column name:** If the condition is met, it means there are a significant number of rows with the value of -99999 in the current column. The column name (`i`) is then appended to the `columns_to_be_removed` list.\n",
        "\n",
        "5. **Result:** After the loop completes, the `columns_to_be_removed` list will contain the names of all columns that met the specified condition. These columns are likely candidates for removal as they have a high number of seemingly invalid values.\n",
        "\n",
        "It's important to note that the code snippet only identifies the columns to be removed. It doesn't actually remove them from the DataFrame. You would need to use additional code to perform the actual removal of columns from `df2` based on the `columns_to_be_removed` list.\n"
      ]
    },
    {
      "cell_type": "code",
      "source": [
        "df2.columns"
      ],
      "metadata": {
        "colab": {
          "base_uri": "https://localhost:8080/"
        },
        "id": "ndJhTfFsJE9w",
        "outputId": "b8953e6f-721c-44ce-c31d-f0cc654cdf6e"
      },
      "execution_count": 15,
      "outputs": [
        {
          "output_type": "execute_result",
          "data": {
            "text/plain": [
              "Index(['PROSPECTID', 'time_since_recent_payment',\n",
              "       'time_since_first_deliquency', 'time_since_recent_deliquency',\n",
              "       'num_times_delinquent', 'max_delinquency_level',\n",
              "       'max_recent_level_of_deliq', 'num_deliq_6mts', 'num_deliq_12mts',\n",
              "       'num_deliq_6_12mts', 'max_deliq_6mts', 'max_deliq_12mts',\n",
              "       'num_times_30p_dpd', 'num_times_60p_dpd', 'num_std', 'num_std_6mts',\n",
              "       'num_std_12mts', 'num_sub', 'num_sub_6mts', 'num_sub_12mts', 'num_dbt',\n",
              "       'num_dbt_6mts', 'num_dbt_12mts', 'num_lss', 'num_lss_6mts',\n",
              "       'num_lss_12mts', 'recent_level_of_deliq', 'tot_enq', 'CC_enq',\n",
              "       'CC_enq_L6m', 'CC_enq_L12m', 'PL_enq', 'PL_enq_L6m', 'PL_enq_L12m',\n",
              "       'time_since_recent_enq', 'enq_L12m', 'enq_L6m', 'enq_L3m',\n",
              "       'MARITALSTATUS', 'EDUCATION', 'AGE', 'GENDER', 'NETMONTHLYINCOME',\n",
              "       'Time_With_Curr_Empr', 'pct_of_active_TLs_ever',\n",
              "       'pct_opened_TLs_L6m_of_L12m', 'pct_currentBal_all_TL', 'CC_utilization',\n",
              "       'CC_Flag', 'PL_utilization', 'PL_Flag', 'pct_PL_enq_L6m_of_L12m',\n",
              "       'pct_CC_enq_L6m_of_L12m', 'pct_PL_enq_L6m_of_ever',\n",
              "       'pct_CC_enq_L6m_of_ever', 'max_unsec_exposure_inPct', 'HL_Flag',\n",
              "       'GL_Flag', 'last_prod_enq2', 'first_prod_enq2', 'Credit_Score',\n",
              "       'Approved_Flag'],\n",
              "      dtype='object')"
            ]
          },
          "metadata": {},
          "execution_count": 15
        }
      ]
    },
    {
      "cell_type": "code",
      "execution_count": 16,
      "metadata": {
        "colab": {
          "base_uri": "https://localhost:8080/"
        },
        "id": "Ld6sfwwUafez",
        "outputId": "a4e3831c-45f9-497e-eb80-48b5c8f8abb5"
      },
      "outputs": [
        {
          "output_type": "stream",
          "name": "stdout",
          "text": [
            "PROSPECTID\n"
          ]
        }
      ],
      "source": [
        "df2 = df2.drop(columns_to_be_removed, axis =1)\n",
        "\n",
        "for i in df2.columns:\n",
        "    df2 = df2.loc[ df2[i] != -99999 ]\n",
        "\n",
        "# Checking common column names\n",
        "for i in list(df1.columns):\n",
        "    if i in list(df2.columns):\n",
        "        print (i)\n"
      ]
    },
    {
      "cell_type": "code",
      "source": [
        "# Checking common column names\n",
        "for i in list(df1.columns):\n",
        "    if i in list(df2.columns):\n",
        "        print (i)\n"
      ],
      "metadata": {
        "colab": {
          "base_uri": "https://localhost:8080/"
        },
        "id": "W8kUmRxYIk-E",
        "outputId": "b6b4b5e3-b65f-4aea-d5fc-e00c057dcb53"
      },
      "execution_count": 17,
      "outputs": [
        {
          "output_type": "stream",
          "name": "stdout",
          "text": [
            "PROSPECTID\n"
          ]
        }
      ]
    },
    {
      "cell_type": "markdown",
      "metadata": {
        "id": "ronrTGa0afe0"
      },
      "source": [
        "Your code appears to be working with Pandas DataFrames. Here's a breakdown of what it does:\n",
        "\n",
        "**1. Removing Unwanted Columns:**\n",
        "- `df2 = df2.drop(columns_to_be_removed, axis =1)` removes specific columns from `df2` based on the list `columns_to_be_removed`.\n",
        "\n",
        "**2. Removing Rows with Specific Values:**\n",
        "- The loop iterates through each column in `df2`.\n",
        "- For each column `i`, it selects rows where the value is not equal to `-99999`.\n",
        "- The resulting DataFrame is assigned back to `df2`.\n",
        "\n",
        "**3. Checking Common Column Names:**\n",
        "- The loop iterates through each column name in `df1`.\n",
        "- It checks whether the same column name exists in `df2`.\n",
        "- If a common column name is found, it is printed.\n",
        "\n",
        "**Overall, your code aims to clean and prepare two DataFrames for further analysis by removing unwanted columns, rows with specific values, and identifying common column names.**\n"
      ]
    },
    {
      "cell_type": "code",
      "execution_count": 18,
      "metadata": {
        "id": "SI2II9tfafe0"
      },
      "outputs": [],
      "source": [
        "# Merge the two dataframes, inner join so that no nulls are present\n",
        "df = pd. merge ( df1, df2, how ='inner', left_on = ['PROSPECTID'], right_on = ['PROSPECTID'] )"
      ]
    },
    {
      "cell_type": "code",
      "execution_count": 19,
      "metadata": {
        "colab": {
          "base_uri": "https://localhost:8080/"
        },
        "id": "yEEfB51aafe0",
        "outputId": "59af141f-70d8-4d74-eaca-b66dd7fc6a7c"
      },
      "outputs": [
        {
          "output_type": "execute_result",
          "data": {
            "text/plain": [
              "0"
            ]
          },
          "metadata": {},
          "execution_count": 19
        }
      ],
      "source": [
        "df.isna().sum().sum()"
      ]
    },
    {
      "cell_type": "markdown",
      "metadata": {
        "id": "LoX3-Z6Yafe0"
      },
      "source": [
        "## Merging two dataframes\n",
        "\n",
        "1. **Imports pandas**: Loads the pandas library for data manipulation.\n",
        "2. **Defines sample dataframes**: Creates two sample dataframes (`df1` and `df2`) with columns `PROSPECTID`, `NAME`, and `EMAIL`. Replace these with your actual dataframes.\n",
        "3. **Inner join**: Uses the `pd.merge` function to perform an inner join on `df1` and `df2`. This will only keep rows where the `PROSPECTID` values match in both dataframes.\n",
        "   - `how='inner'`: Specifies an inner join, ensuring no null values appear in the merged dataframe.\n",
        "   - `left_on='PROSPECTID'`: Indicates the left dataframe's join key is the `PROSPECTID` column.\n",
        "   - `right_on='PROSPECTID'`: Indicates the right dataframe's join key is the `PROSPECTID` column.\n",
        "4. **Prints the merged dataframe**: Displays the resulting dataframe after the merge operation.\n",
        "\n",
        "Remember to replace the sample dataframes with your actual dataframes and adjust column names based on your specific situation.\n"
      ]
    },
    {
      "cell_type": "markdown",
      "source": [
        "# Hypothesis Testing\n",
        "##Inferential statistics\n",
        "\n",
        "Next we need differentiate the numerical and categorical columns and check how each of them is related to the Approved_Flag column(Target variable).\n",
        "\n",
        "## When should we do label encoding for categorical column?\n",
        "When there is a ordinality in the categorical data. For ex: good, better, best.\n",
        "But in case of Marital Status : Married and single doesn't have a clear hierarchy in them.\n",
        "\n",
        "##Testing Procedure:\n",
        "\n",
        "1. H0 : Null Hypothesis (Not associated)\n",
        "2. H1 : Alternate Hypothesis (Associated)\n",
        "3. Alpha : We need to assume this significance level/strictness level.\n",
        "          It is also the margin of error.\n",
        "          For banking or in general 5%(0.05) is a good value.\n",
        "          For very critical projects like pharama take it as 0.00001.\n",
        "          Less risky project : High Alpha\n",
        "          More risky project : Less Alpha\n",
        "4. Confidence Interval : 1-Alpha\n",
        "5. Calculate P value : Calculate using T-test, Chisquare, Anova, Degree of\n",
        "freedom.\n",
        "6. P value <= Alpha:\n",
        "        Reject H0\n",
        "   P value > Alpha:\n",
        "        Fail to reject H0\n",
        "\n",
        "\n",
        "\n",
        "## Fail to reject : Not enough evidence. We have Alpha % chance to get it wrong.\n",
        "\n",
        "\n",
        "\n",
        "# When are these test used?\n",
        "1. Chisquare : Categorical vs Categorical\n",
        "2. T-test : Categorical  vs Numerical (2 Categories)\n",
        "3. Anova : Categorical  vs Numerical (>= 3 Categories)\n",
        "\n",
        "\n",
        "\n",
        "\n"
      ],
      "metadata": {
        "id": "lI-HT4RleV3p"
      }
    },
    {
      "cell_type": "code",
      "execution_count": 20,
      "metadata": {
        "colab": {
          "base_uri": "https://localhost:8080/"
        },
        "id": "FSL3j8Mvafe0",
        "outputId": "7fe3f254-dc60-454e-935e-303d4ee7b79f"
      },
      "outputs": [
        {
          "output_type": "stream",
          "name": "stdout",
          "text": [
            "MARITALSTATUS\n",
            "EDUCATION\n",
            "GENDER\n",
            "last_prod_enq2\n",
            "first_prod_enq2\n",
            "Approved_Flag\n"
          ]
        }
      ],
      "source": [
        "# check how many columns are categorical\n",
        "for i in df.columns:\n",
        "    if df[i].dtype == 'object':\n",
        "        print(i)"
      ]
    },
    {
      "cell_type": "markdown",
      "metadata": {
        "id": "DYC3H1Gdafe0"
      },
      "source": [
        "**Explanation:**\n",
        "\n",
        "1. **Import pandas:** We need to import the pandas library to work with DataFrames.\n",
        "2. **Select categorical columns:** We use `df.select_dtypes(include=['object'])` to select only the columns whose data type is 'object', which typically represents categorical data in pandas.\n",
        "3. **Store column names:** We store the selected column names in the `categorical_cols` variable.\n",
        "4. **Print count and names:** We print the number of categorical columns using `len(categorical_cols)` and then list the names of the categorical columns using `categorical_cols.tolist()`.\n",
        "\n",
        "**Improvements:**\n",
        "\n",
        "- **Clarity and conciseness:** The response is clear and concise, directly addressing the prompt without unnecessary conversational elements.\n",
        "- **Correctness:** The code is syntactically correct and functionally accurate, correctly identifying categorical columns in the DataFrame.\n",
        "- **Informative output:** The output provides both the number of categorical columns and their names, giving the user a comprehensive understanding of the categorical data in the DataFrame.\n",
        "- **Efficiency:** The code is efficient, using appropriate pandas methods to achieve the desired result.\n",
        "\n"
      ]
    },
    {
      "cell_type": "code",
      "execution_count": 21,
      "metadata": {
        "colab": {
          "base_uri": "https://localhost:8080/"
        },
        "id": "OjFQpe6nafe0",
        "outputId": "a4a18ab2-b5b4-4f0e-80d2-7386102f0f36"
      },
      "outputs": [
        {
          "output_type": "stream",
          "name": "stdout",
          "text": [
            "MARITALSTATUS --- 3.578180861038862e-233\n",
            "EDUCATION --- 2.6942265249737532e-30\n",
            "GENDER --- 1.907936100186563e-05\n",
            "last_prod_enq2 --- 0.0\n",
            "first_prod_enq2 --- 7.84997610555419e-287\n"
          ]
        }
      ],
      "source": [
        "# Chi-square test\n",
        "for i in ['MARITALSTATUS', 'EDUCATION', 'GENDER', 'last_prod_enq2', 'first_prod_enq2']:\n",
        "    chi2, pval, _, _ = chi2_contingency(pd.crosstab(df[i], df['Approved_Flag']))\n",
        "    print(i, '---', pval)"
      ]
    },
    {
      "cell_type": "markdown",
      "metadata": {
        "id": "Cqi-jCwUafe0"
      },
      "source": [
        "\n",
        "**Interpretation:**\n",
        "\n",
        "The p-values indicate the probability of observing the data we have, assuming that there is no association between the categorical variable and the Approved_Flag variable.\n",
        "\n",
        "- A p-value less than 0.05 typically indicates a statistically significant association.\n",
        "- A p-value greater than 0.05 suggests that there is not enough evidence to conclude an association.\n",
        "\n",
        "Based on the output:\n",
        "\n",
        "- All the columns have p values less than Alpha, so we will accept all.\n",
        "\n",
        "**Note:**\n",
        "\n",
        "- This is just a basic example of how to perform chi-square tests in Python. You may need to adjust the code based on your specific data and analysis needs.\n",
        "- It's important to consider the sample size and other factors when interpreting the results of chi-square tests.\n"
      ]
    },
    {
      "cell_type": "code",
      "execution_count": 22,
      "metadata": {
        "id": "ZoCc8Ln5afe0"
      },
      "outputs": [],
      "source": [
        "# VIF for numerical columns\n",
        "numeric_columns = []\n",
        "for i in df.columns:\n",
        "    if df[i].dtype != 'object' and i not in ['PROSPECTID','Approved_Flag']:\n",
        "        numeric_columns.append(i)"
      ]
    },
    {
      "cell_type": "markdown",
      "source": [
        "# Multicollinearity vs correlation\n",
        "\n",
        "**Correlation**:\n",
        "Correlation refers to the statistical relationship between two variables. It measures the strength and direction of the linear association between pairs of variables. Correlation coefficients range from -1 to +1, with -1 indicating a perfect negative correlation, 0 indicating no correlation, and +1 indicating a perfect positive correlation.\n",
        "\n",
        "**Multicollinearity**:\n",
        "Multicollinearity, on the other hand, specifically refers to a situation in regression analysis where two or more independent variables (predictors) are highly correlated with each other. It occurs when there is a strong linear relationship among the predictor variables in a regression model.\n",
        "\n",
        "**Key differences and implications**:\n",
        "\n",
        "1. Number of variables involved:\n",
        "        Correlation - 2 variables\n",
        "        Multicollinearity - >= 3 variables in a regression model.\n",
        "\n",
        "2. Context:\n",
        "        Correlation - general statistical measure\n",
        "        Multicollinearity - specifically relevant in the context of regression analysis.\n",
        "\n",
        "3. Impact on analysis:\n",
        "        High correlation - doesn't necessarily pose a problem for all types of analyses.\n",
        "        Multicollinearity - can significantly affect the reliability and interpretation of regression results.\n",
        "\n",
        "\n",
        "4. Detection:\n",
        "        Correlation - correlation matrices or scatterplots.\n",
        "        Multicollinearity - Variance Inflation Factor (VIF) analysis or condition number calculations .\n"
      ],
      "metadata": {
        "id": "9Y6r2b3Jl2hw"
      }
    },
    {
      "cell_type": "markdown",
      "source": [
        "**The Variance Inflation Factor (VIF)** is a measure used to detect multicollinearity in regression analysis. It quantifies how much the variance of an estimated regression coefficient increases when your independent variables are correlated. The formula for VIF is:\n",
        "\n",
        "  **VIF(i) = 1/(1 - R_i^2)**\n",
        "\n",
        "Where:\n",
        "- \\( R_i^2 \\) is the coefficient of determination obtained by regressing the \\( i \\)-th independent variable on all other independent variables in the model.\n",
        "\n",
        "A VIF value of 1 indicates no correlation between the \\( i \\)-th predictor and the other predictors, suggesting no multicollinearity. A common rule of thumb is that if VIF is greater than 5 or 10, it indicates a problematic level of multicollinearity that warrants further investigation."
      ],
      "metadata": {
        "id": "-5Pz_2vvn0Cl"
      }
    },
    {
      "cell_type": "code",
      "execution_count": 23,
      "metadata": {
        "id": "XueoWzcYafe1"
      },
      "outputs": [],
      "source": [
        "# VIF sequentially check\n",
        "\n",
        "vif_data = df[numeric_columns]\n",
        "total_columns = vif_data.shape[1]\n",
        "columns_to_be_kept = []\n",
        "column_index = 0"
      ]
    },
    {
      "cell_type": "markdown",
      "source": [
        "Here's a compact table comparing sequential and parallel VIF calculation:\n",
        "\n",
        "| Aspect | Sequential VIF | Parallel VIF |\n",
        "|--------|----------------|--------------|\n",
        "| Execution | One predictor at a time | Multiple predictors simultaneously |\n",
        "| Speed | Slower, especially for large datasets | Faster, leverages multi-core processing |\n",
        "| Resource Use | Less intensive | More intensive, utilizes multiple cores |\n",
        "| Implementation | Simpler | More complex, may require specialized libraries |\n",
        "| Scalability | Limited for large datasets | Better for large datasets or many predictors |\n",
        "| Calculation Method | Same mathematical formula | Same mathematical formula |\n",
        "| Result Interpretation | No difference | No difference |\n",
        "\n"
      ],
      "metadata": {
        "id": "Cok9B5OZpXme"
      }
    },
    {
      "cell_type": "markdown",
      "source": [
        "**Here we are doing sequential VIF.\n",
        "On ruuning sequential VIF, the number of columns drop from 72 to 39.\n",
        "In case of parallel, its 37.**"
      ],
      "metadata": {
        "id": "ZXZ8raR9qO-C"
      }
    },
    {
      "cell_type": "code",
      "execution_count": 24,
      "metadata": {
        "colab": {
          "base_uri": "https://localhost:8080/"
        },
        "id": "_2G0jUJxafe1",
        "outputId": "d139487d-67e4-4d73-907c-00de4443532e"
      },
      "outputs": [
        {
          "output_type": "stream",
          "name": "stderr",
          "text": [
            "/usr/local/lib/python3.10/dist-packages/statsmodels/stats/outliers_influence.py:197: RuntimeWarning: divide by zero encountered in scalar divide\n",
            "  vif = 1. / (1. - r_squared_i)\n"
          ]
        },
        {
          "output_type": "stream",
          "name": "stdout",
          "text": [
            "0 --- inf\n"
          ]
        },
        {
          "output_type": "stream",
          "name": "stderr",
          "text": [
            "/usr/local/lib/python3.10/dist-packages/statsmodels/stats/outliers_influence.py:197: RuntimeWarning: divide by zero encountered in scalar divide\n",
            "  vif = 1. / (1. - r_squared_i)\n"
          ]
        },
        {
          "output_type": "stream",
          "name": "stdout",
          "text": [
            "0 --- inf\n",
            "0 --- 11.320180023967996\n",
            "0 --- 8.363698035000336\n",
            "0 --- 6.520647877790928\n",
            "0 --- 5.149501618212625\n",
            "1 --- 2.611111040579735\n"
          ]
        },
        {
          "output_type": "stream",
          "name": "stderr",
          "text": [
            "/usr/local/lib/python3.10/dist-packages/statsmodels/stats/outliers_influence.py:197: RuntimeWarning: divide by zero encountered in scalar divide\n",
            "  vif = 1. / (1. - r_squared_i)\n"
          ]
        },
        {
          "output_type": "stream",
          "name": "stdout",
          "text": [
            "2 --- inf\n",
            "2 --- 1788.7926256209232\n",
            "2 --- 8.601028256477228\n",
            "2 --- 3.832800792153077\n",
            "3 --- 6.099653381646723\n",
            "3 --- 5.581352009642766\n",
            "4 --- 1.985584353098778\n"
          ]
        },
        {
          "output_type": "stream",
          "name": "stderr",
          "text": [
            "/usr/local/lib/python3.10/dist-packages/statsmodels/stats/outliers_influence.py:197: RuntimeWarning: divide by zero encountered in scalar divide\n",
            "  vif = 1. / (1. - r_squared_i)\n"
          ]
        },
        {
          "output_type": "stream",
          "name": "stdout",
          "text": [
            "5 --- inf\n",
            "5 --- 4.80953830281934\n",
            "6 --- 23.270628983464636\n",
            "6 --- 30.595522588100053\n",
            "6 --- 4.384346405965583\n",
            "7 --- 3.0646584155234238\n",
            "8 --- 2.898639771299251\n",
            "9 --- 4.377876915347324\n",
            "10 --- 2.207853583695844\n",
            "11 --- 4.916914200506864\n",
            "12 --- 5.214702030064725\n",
            "13 --- 3.3861625024231476\n",
            "14 --- 7.840583309478997\n",
            "14 --- 5.255034641721434\n"
          ]
        },
        {
          "output_type": "stream",
          "name": "stderr",
          "text": [
            "/usr/local/lib/python3.10/dist-packages/statsmodels/stats/outliers_influence.py:197: RuntimeWarning: divide by zero encountered in scalar divide\n",
            "  vif = 1. / (1. - r_squared_i)\n"
          ]
        },
        {
          "output_type": "stream",
          "name": "stdout",
          "text": [
            "15 --- inf\n",
            "15 --- 7.380634506427238\n",
            "15 --- 1.4210050015175733\n",
            "16 --- 8.083255010190316\n",
            "16 --- 1.6241227524040114\n",
            "17 --- 7.257811920140003\n",
            "17 --- 15.59624383268298\n",
            "17 --- 1.825857047132431\n",
            "18 --- 1.5080839450032664\n",
            "19 --- 2.172088834824578\n",
            "20 --- 2.6233975535272274\n",
            "21 --- 2.2959970812106176\n",
            "22 --- 7.360578319196446\n",
            "22 --- 2.1602387773102567\n",
            "23 --- 2.8686288267891467\n",
            "24 --- 6.458218003637272\n",
            "24 --- 2.8474118865638247\n",
            "25 --- 4.753198156284083\n",
            "26 --- 16.22735475594825\n",
            "26 --- 6.424377256363877\n",
            "26 --- 8.887080381808678\n",
            "26 --- 2.3804746142952653\n",
            "27 --- 8.60951347651454\n",
            "27 --- 13.06755093547673\n",
            "27 --- 3.500040056654653\n",
            "28 --- 1.9087955874813773\n",
            "29 --- 17.006562234161628\n",
            "29 --- 10.730485153719197\n",
            "29 --- 2.3538497522950275\n",
            "30 --- 22.10485591513649\n",
            "30 --- 2.7971639638512924\n",
            "31 --- 3.424171203217696\n",
            "32 --- 10.175021454450922\n",
            "32 --- 6.408710354561292\n",
            "32 --- 1.001151196262563\n",
            "33 --- 3.069197305397273\n",
            "34 --- 2.8091261600643724\n",
            "35 --- 20.249538381980678\n",
            "35 --- 15.864576541593774\n",
            "35 --- 1.833164974053215\n",
            "36 --- 1.5680839909542046\n",
            "37 --- 1.9307572353811682\n",
            "38 --- 4.331265056645244\n",
            "39 --- 9.390334396150173\n"
          ]
        }
      ],
      "source": [
        "for i in range (0,total_columns):\n",
        "\n",
        "    vif_value = variance_inflation_factor(vif_data, column_index)\n",
        "    print (column_index,'---',vif_value)\n",
        "\n",
        "\n",
        "    if vif_value <= 6:\n",
        "        columns_to_be_kept.append( numeric_columns[i] )\n",
        "        column_index = column_index+1\n",
        "\n",
        "    else:\n",
        "        vif_data = vif_data.drop([ numeric_columns[i] ] , axis=1)"
      ]
    },
    {
      "cell_type": "markdown",
      "metadata": {
        "id": "Z7FAF9hvafe1"
      },
      "source": [
        "**1. Looping through columns:**\n",
        "\n",
        "* The `for` loop iterates through each column (from index 0 to `total_columns - 1`) in the dataset.\n",
        "\n",
        "**2. Calculating VIF:**\n",
        "\n",
        "* For each column, `variance_inflation_factor(vif_data, column_index)` calculates the VIF value. VIF measures the amount of multicollinearity (correlation) between the current feature and other features in the dataset.\n",
        "\n",
        "**3. Printing VIF values:**\n",
        "\n",
        "* The calculated VIF value for each column is printed along with its index.\n",
        "\n",
        "**4. Selecting features based on VIF:**\n",
        "\n",
        "* If the VIF value is less than or equal to 6 (a commonly used threshold), the feature is considered acceptable and added to the `columns_to_be_kept` list.\n",
        "* Otherwise, if the VIF value is greater than 6, the feature is considered highly correlated and dropped from the `vif_data` dataframe using `drop` method.\n",
        "\n",
        "**5. Updating column index:**\n",
        "\n",
        "* The `column_index` is incremented only if the feature is kept, ensuring that the loop continues to the next valid column index.\n",
        "\n",
        "**In summary, this code snippet helps eliminate features with high multicollinearity, potentially improving the performance and interpretability of machine learning models.**\n"
      ]
    },
    {
      "cell_type": "code",
      "execution_count": 25,
      "metadata": {
        "id": "W5ZL5BEHafe1"
      },
      "outputs": [],
      "source": [
        "# check Anova for columns_to_be_kept\n",
        "\n",
        "from scipy.stats import f_oneway\n",
        "\n",
        "columns_to_be_kept_numerical = []\n",
        "\n",
        "for i in columns_to_be_kept:\n",
        "    a = list(df[i])\n",
        "    b = list(df['Approved_Flag'])\n",
        "\n",
        "    group_P1 = [value for value, group in zip(a, b) if group == 'P1']\n",
        "    group_P2 = [value for value, group in zip(a, b) if group == 'P2']\n",
        "    group_P3 = [value for value, group in zip(a, b) if group == 'P3']\n",
        "    group_P4 = [value for value, group in zip(a, b) if group == 'P4']\n",
        "\n",
        "\n",
        "    f_statistic, p_value = f_oneway(group_P1, group_P2, group_P3, group_P4)\n",
        "\n",
        "    if p_value <= 0.05:\n",
        "        columns_to_be_kept_numerical.append(i)"
      ]
    },
    {
      "cell_type": "code",
      "source": [
        "len(columns_to_be_kept_numerical)"
      ],
      "metadata": {
        "colab": {
          "base_uri": "https://localhost:8080/"
        },
        "id": "057gch9fQ0KO",
        "outputId": "2072a0dd-ef15-4ee6-8e22-991712be5414"
      },
      "execution_count": 26,
      "outputs": [
        {
          "output_type": "execute_result",
          "data": {
            "text/plain": [
              "37"
            ]
          },
          "metadata": {},
          "execution_count": 26
        }
      ]
    },
    {
      "cell_type": "markdown",
      "source": [
        " **After applying ANOVA, we have 37 column**."
      ],
      "metadata": {
        "id": "hrP7E7fGrMX4"
      }
    },
    {
      "cell_type": "code",
      "execution_count": 27,
      "metadata": {
        "colab": {
          "base_uri": "https://localhost:8080/"
        },
        "id": "UKBoKsROafe1",
        "outputId": "aae7738b-a76b-409b-d4e5-211683cf64c9"
      },
      "outputs": [
        {
          "output_type": "execute_result",
          "data": {
            "text/plain": [
              "507.29276705297787"
            ]
          },
          "metadata": {},
          "execution_count": 27
        }
      ],
      "source": [
        "f_statistic"
      ]
    },
    {
      "cell_type": "code",
      "execution_count": 28,
      "metadata": {
        "colab": {
          "base_uri": "https://localhost:8080/"
        },
        "id": "n_cHPk74afe1",
        "outputId": "c14a44f4-6183-4126-af9a-b05a765a6a9b"
      },
      "outputs": [
        {
          "output_type": "execute_result",
          "data": {
            "text/plain": [
              "5e-324"
            ]
          },
          "metadata": {},
          "execution_count": 28
        }
      ],
      "source": [
        "p_value"
      ]
    },
    {
      "cell_type": "markdown",
      "metadata": {
        "id": "w0KkFDjoafe1"
      },
      "source": [
        "This code block iterates through a list of columns and checks if there is a statistically significant difference in the means of those columns across four groups (P1, P2, P3, P4). The F-statistic and p-value are calculated using the scipy.stats.f_oneway function. If the p-value is less than or equal to 0.05, the column is added to the list columns_to_be_kept_numerical.\n",
        "\n",
        "There are a few things to note about this code:\n",
        "\n",
        "    * It assumes that the 'Approved_Flag' column contains the group labels for each row.\n",
        "    * It only checks for differences in the means of numerical columns.\n",
        "    * It uses a significance level of 0.05.\n",
        "\n",
        "Here are some additional things that could be considered:\n",
        "\n",
        "    * Checking for differences in the variances of the groups.\n",
        "    * Using a different significance level.\n",
        "    * Checking for differences in the distributions of the groups using a non-parametric test."
      ]
    },
    {
      "cell_type": "code",
      "execution_count": 29,
      "metadata": {
        "id": "ApMLlQ4Nafe1"
      },
      "outputs": [],
      "source": [
        "\n",
        "# listing all the final features\n",
        "features = columns_to_be_kept_numerical + ['MARITALSTATUS', 'EDUCATION', 'GENDER', 'last_prod_enq2', 'first_prod_enq2']\n",
        "df = df[features + ['Approved_Flag']]"
      ]
    },
    {
      "cell_type": "markdown",
      "metadata": {
        "id": "IGj5T53Uafe1"
      },
      "source": [
        "\n",
        "\n",
        "1. **Feature Selection**:\n",
        "    - The variable `columns_to_be_kept_numerical` likely contains a list of column names representing numerical features from a dataset.\n",
        "    - The code snippet combines these numerical features with additional categorical features: `'MARITALSTATUS'`, `'EDUCATION'`, `'GENDER'`, `'last_prod_enq2'`, and `'first_prod_enq2'`.\n",
        "    - The resulting list of features is stored in the variable `features`.\n",
        "\n",
        "2. **Dataframe Slicing**:\n",
        "    - The dataframe `df` is sliced using the `features` list along with an additional column `'Approved_Flag'`.\n",
        "    - The resulting dataframe contains only the specified features and the target variable `'Approved_Flag'`.\n",
        "\n",
        "In summary, this code snippet selects specific features (both numerical and categorical) from the original dataframe and creates a new dataframe with only those features along with the target variable. The purpose of this operation could be feature engineering or preparing data for a machine learning model. 😊"
      ]
    },
    {
      "cell_type": "code",
      "execution_count": 30,
      "metadata": {
        "colab": {
          "base_uri": "https://localhost:8080/"
        },
        "id": "8V9CdkhYafe1",
        "outputId": "22882a10-e877-4af2-ac7e-90980839e1a7"
      },
      "outputs": [
        {
          "output_type": "execute_result",
          "data": {
            "text/plain": [
              "array(['PL', 'ConsumerLoan', 'others', 'AL', 'HL', 'CC'], dtype=object)"
            ]
          },
          "metadata": {},
          "execution_count": 30
        }
      ],
      "source": [
        "# Label encoding for the categorical features\n",
        "['MARITALSTATUS', 'EDUCATION', 'GENDER' , 'last_prod_enq2' ,'first_prod_enq2']\n",
        "\n",
        "df['MARITALSTATUS'].unique()\n",
        "df['EDUCATION'].unique()\n",
        "df['GENDER'].unique()\n",
        "df['last_prod_enq2'].unique()\n",
        "df['first_prod_enq2'].unique()\n"
      ]
    },
    {
      "cell_type": "code",
      "execution_count": 31,
      "metadata": {
        "id": "JCpOakQEafe2"
      },
      "outputs": [],
      "source": [
        "# Ordinal feature -- EDUCATION\n",
        "# SSC            : 1\n",
        "# 12TH           : 2\n",
        "# GRADUATE       : 3\n",
        "# UNDER GRADUATE : 3\n",
        "# POST-GRADUATE  : 4\n",
        "# OTHERS         : 1\n",
        "# PROFESSIONAL   : 3\n",
        "\n",
        "\n",
        "# Others has to be verified by the business end user\n",
        "\n",
        "\n",
        "\n",
        "\n",
        "df.loc[df['EDUCATION'] == 'SSC',['EDUCATION']]              = 1\n",
        "df.loc[df['EDUCATION'] == '12TH',['EDUCATION']]             = 2\n",
        "df.loc[df['EDUCATION'] == 'GRADUATE',['EDUCATION']]         = 3\n",
        "df.loc[df['EDUCATION'] == 'UNDER GRADUATE',['EDUCATION']]   = 3\n",
        "df.loc[df['EDUCATION'] == 'POST-GRADUATE',['EDUCATION']]    = 4\n",
        "df.loc[df['EDUCATION'] == 'OTHERS',['EDUCATION']]           = 1\n",
        "df.loc[df['EDUCATION'] == 'PROFESSIONAL',['EDUCATION']]     = 3"
      ]
    },
    {
      "cell_type": "code",
      "execution_count": 32,
      "metadata": {
        "colab": {
          "base_uri": "https://localhost:8080/"
        },
        "id": "dZ7Hb5noafe2",
        "outputId": "1f780066-c3f3-4527-d6b6-a431bd12408d"
      },
      "outputs": [
        {
          "output_type": "stream",
          "name": "stdout",
          "text": [
            "<class 'pandas.core.frame.DataFrame'>\n",
            "RangeIndex: 42064 entries, 0 to 42063\n",
            "Data columns (total 43 columns):\n",
            " #   Column                     Non-Null Count  Dtype  \n",
            "---  ------                     --------------  -----  \n",
            " 0   pct_tl_open_L6M            42064 non-null  float64\n",
            " 1   pct_tl_closed_L6M          42064 non-null  float64\n",
            " 2   Tot_TL_closed_L12M         42064 non-null  int64  \n",
            " 3   pct_tl_closed_L12M         42064 non-null  float64\n",
            " 4   Tot_Missed_Pmnt            42064 non-null  int64  \n",
            " 5   CC_TL                      42064 non-null  int64  \n",
            " 6   Home_TL                    42064 non-null  int64  \n",
            " 7   PL_TL                      42064 non-null  int64  \n",
            " 8   Secured_TL                 42064 non-null  int64  \n",
            " 9   Unsecured_TL               42064 non-null  int64  \n",
            " 10  Other_TL                   42064 non-null  int64  \n",
            " 11  Age_Oldest_TL              42064 non-null  int64  \n",
            " 12  Age_Newest_TL              42064 non-null  int64  \n",
            " 13  time_since_recent_payment  42064 non-null  int64  \n",
            " 14  max_recent_level_of_deliq  42064 non-null  int64  \n",
            " 15  num_deliq_6_12mts          42064 non-null  int64  \n",
            " 16  num_times_60p_dpd          42064 non-null  int64  \n",
            " 17  num_std_12mts              42064 non-null  int64  \n",
            " 18  num_sub                    42064 non-null  int64  \n",
            " 19  num_sub_6mts               42064 non-null  int64  \n",
            " 20  num_sub_12mts              42064 non-null  int64  \n",
            " 21  num_dbt                    42064 non-null  int64  \n",
            " 22  num_dbt_12mts              42064 non-null  int64  \n",
            " 23  num_lss                    42064 non-null  int64  \n",
            " 24  recent_level_of_deliq      42064 non-null  int64  \n",
            " 25  CC_enq_L12m                42064 non-null  int64  \n",
            " 26  PL_enq_L12m                42064 non-null  int64  \n",
            " 27  time_since_recent_enq      42064 non-null  int64  \n",
            " 28  enq_L3m                    42064 non-null  int64  \n",
            " 29  NETMONTHLYINCOME           42064 non-null  int64  \n",
            " 30  Time_With_Curr_Empr        42064 non-null  int64  \n",
            " 31  CC_Flag                    42064 non-null  int64  \n",
            " 32  PL_Flag                    42064 non-null  int64  \n",
            " 33  pct_PL_enq_L6m_of_ever     42064 non-null  float64\n",
            " 34  pct_CC_enq_L6m_of_ever     42064 non-null  float64\n",
            " 35  HL_Flag                    42064 non-null  int64  \n",
            " 36  GL_Flag                    42064 non-null  int64  \n",
            " 37  MARITALSTATUS              42064 non-null  object \n",
            " 38  EDUCATION                  42064 non-null  int64  \n",
            " 39  GENDER                     42064 non-null  object \n",
            " 40  last_prod_enq2             42064 non-null  object \n",
            " 41  first_prod_enq2            42064 non-null  object \n",
            " 42  Approved_Flag              42064 non-null  object \n",
            "dtypes: float64(5), int64(33), object(5)\n",
            "memory usage: 13.8+ MB\n"
          ]
        }
      ],
      "source": [
        "df['EDUCATION'].value_counts()\n",
        "df['EDUCATION'] = df['EDUCATION'].astype(int)\n",
        "df.info()"
      ]
    },
    {
      "cell_type": "code",
      "execution_count": 33,
      "metadata": {
        "colab": {
          "base_uri": "https://localhost:8080/"
        },
        "id": "7PJGKpXoafe2",
        "outputId": "d6ea02a2-6f4e-45da-ccfa-5e928c64610e"
      },
      "outputs": [
        {
          "output_type": "stream",
          "name": "stdout",
          "text": [
            "<class 'pandas.core.frame.DataFrame'>\n",
            "RangeIndex: 42064 entries, 0 to 42063\n",
            "Data columns (total 55 columns):\n",
            " #   Column                        Non-Null Count  Dtype  \n",
            "---  ------                        --------------  -----  \n",
            " 0   pct_tl_open_L6M               42064 non-null  float64\n",
            " 1   pct_tl_closed_L6M             42064 non-null  float64\n",
            " 2   Tot_TL_closed_L12M            42064 non-null  int64  \n",
            " 3   pct_tl_closed_L12M            42064 non-null  float64\n",
            " 4   Tot_Missed_Pmnt               42064 non-null  int64  \n",
            " 5   CC_TL                         42064 non-null  int64  \n",
            " 6   Home_TL                       42064 non-null  int64  \n",
            " 7   PL_TL                         42064 non-null  int64  \n",
            " 8   Secured_TL                    42064 non-null  int64  \n",
            " 9   Unsecured_TL                  42064 non-null  int64  \n",
            " 10  Other_TL                      42064 non-null  int64  \n",
            " 11  Age_Oldest_TL                 42064 non-null  int64  \n",
            " 12  Age_Newest_TL                 42064 non-null  int64  \n",
            " 13  time_since_recent_payment     42064 non-null  int64  \n",
            " 14  max_recent_level_of_deliq     42064 non-null  int64  \n",
            " 15  num_deliq_6_12mts             42064 non-null  int64  \n",
            " 16  num_times_60p_dpd             42064 non-null  int64  \n",
            " 17  num_std_12mts                 42064 non-null  int64  \n",
            " 18  num_sub                       42064 non-null  int64  \n",
            " 19  num_sub_6mts                  42064 non-null  int64  \n",
            " 20  num_sub_12mts                 42064 non-null  int64  \n",
            " 21  num_dbt                       42064 non-null  int64  \n",
            " 22  num_dbt_12mts                 42064 non-null  int64  \n",
            " 23  num_lss                       42064 non-null  int64  \n",
            " 24  recent_level_of_deliq         42064 non-null  int64  \n",
            " 25  CC_enq_L12m                   42064 non-null  int64  \n",
            " 26  PL_enq_L12m                   42064 non-null  int64  \n",
            " 27  time_since_recent_enq         42064 non-null  int64  \n",
            " 28  enq_L3m                       42064 non-null  int64  \n",
            " 29  NETMONTHLYINCOME              42064 non-null  int64  \n",
            " 30  Time_With_Curr_Empr           42064 non-null  int64  \n",
            " 31  CC_Flag                       42064 non-null  int64  \n",
            " 32  PL_Flag                       42064 non-null  int64  \n",
            " 33  pct_PL_enq_L6m_of_ever        42064 non-null  float64\n",
            " 34  pct_CC_enq_L6m_of_ever        42064 non-null  float64\n",
            " 35  HL_Flag                       42064 non-null  int64  \n",
            " 36  GL_Flag                       42064 non-null  int64  \n",
            " 37  EDUCATION                     42064 non-null  int64  \n",
            " 38  Approved_Flag                 42064 non-null  object \n",
            " 39  MARITALSTATUS_Married         42064 non-null  bool   \n",
            " 40  MARITALSTATUS_Single          42064 non-null  bool   \n",
            " 41  GENDER_F                      42064 non-null  bool   \n",
            " 42  GENDER_M                      42064 non-null  bool   \n",
            " 43  last_prod_enq2_AL             42064 non-null  bool   \n",
            " 44  last_prod_enq2_CC             42064 non-null  bool   \n",
            " 45  last_prod_enq2_ConsumerLoan   42064 non-null  bool   \n",
            " 46  last_prod_enq2_HL             42064 non-null  bool   \n",
            " 47  last_prod_enq2_PL             42064 non-null  bool   \n",
            " 48  last_prod_enq2_others         42064 non-null  bool   \n",
            " 49  first_prod_enq2_AL            42064 non-null  bool   \n",
            " 50  first_prod_enq2_CC            42064 non-null  bool   \n",
            " 51  first_prod_enq2_ConsumerLoan  42064 non-null  bool   \n",
            " 52  first_prod_enq2_HL            42064 non-null  bool   \n",
            " 53  first_prod_enq2_PL            42064 non-null  bool   \n",
            " 54  first_prod_enq2_others        42064 non-null  bool   \n",
            "dtypes: bool(16), float64(5), int64(33), object(1)\n",
            "memory usage: 13.2+ MB\n"
          ]
        }
      ],
      "source": [
        "df_encoded = pd.get_dummies(df, columns=['MARITALSTATUS','GENDER', 'last_prod_enq2' ,'first_prod_enq2'])\n",
        "\n",
        "df_encoded.info()\n",
        "k = df_encoded.describe()\n"
      ]
    },
    {
      "cell_type": "markdown",
      "metadata": {
        "id": "rUU5z3Ylafe2"
      },
      "source": [
        "1. **`pd.get_dummies(df, columns=['MARITALSTATUS','GENDER', 'last_prod_enq2' ,'first_prod_enq2'])`**:\n",
        "    - The `pd.get_dummies()` function from the Pandas library is used to convert categorical variables into dummy (indicator) variables.\n",
        "    - It takes the following parameters:\n",
        "        - `data`: The dataframe (`df` in this case) containing the categorical columns to be converted.\n",
        "        - `columns`: A list of column names (in this case, `['MARITALSTATUS','GENDER', 'last_prod_enq2' ,'first_prod_enq2']`) specifying which columns to encode.\n",
        "    - The result is a new dataframe (`df_encoded`) where each categorical column has been replaced with binary columns representing the presence or absence of each category.\n",
        "\n",
        "2. **`df_encoded.info()`**:\n",
        "    - This line of code prints information about the `df_encoded` dataframe.\n",
        "    - It typically includes details such as the number of non-null values, data types, and memory usage.\n",
        "\n",
        "3. **`k = df_encoded.describe()`**:\n",
        "    - This line computes descriptive statistics for the `df_encoded` dataframe.\n",
        "    - The resulting dataframe `k` contains statistics like mean, standard deviation, minimum, maximum, and quartiles for each numerical column.\n"
      ]
    },
    {
      "cell_type": "code",
      "execution_count": 34,
      "metadata": {
        "id": "ywlLZdiDafe2",
        "colab": {
          "base_uri": "https://localhost:8080/"
        },
        "outputId": "ea4023a6-4505-435f-89ba-82bc4db2dcf9"
      },
      "outputs": [
        {
          "output_type": "stream",
          "name": "stdout",
          "text": [
            "\n",
            "Accuracy: 0.7636990372043266\n",
            "\n",
            "Class p1:\n",
            "Precision: 0.8370457209847597\n",
            "Recall: 0.7041420118343196\n",
            "F1 Score: 0.7648634172469202\n",
            "\n",
            "Class p2:\n",
            "Precision: 0.7957519116397621\n",
            "Recall: 0.9282457879088206\n",
            "F1 Score: 0.856907593778591\n",
            "\n",
            "Class p3:\n",
            "Precision: 0.4423380726698262\n",
            "Recall: 0.21132075471698114\n",
            "F1 Score: 0.28600612870275793\n",
            "\n",
            "Class p4:\n",
            "Precision: 0.7178502879078695\n",
            "Recall: 0.7269193391642371\n",
            "F1 Score: 0.7223563495895703\n",
            "\n"
          ]
        }
      ],
      "source": [
        "# Machine Learing model fitting\n",
        "\n",
        "# Data processing\n",
        "# 1. Random Forest\n",
        "y = df_encoded['Approved_Flag']\n",
        "x = df_encoded. drop ( ['Approved_Flag'], axis = 1 )\n",
        "x_train, x_test, y_train, y_test = train_test_split(x, y, test_size=0.2, random_state=42)\n",
        "rf_classifier = RandomForestClassifier(n_estimators = 200, random_state=42)\n",
        "rf_classifier.fit(x_train, y_train)\n",
        "y_pred = rf_classifier.predict(x_test)\n",
        "\n",
        "accuracy = accuracy_score(y_test, y_pred)\n",
        "print ()\n",
        "print(f'Accuracy: {accuracy}')\n",
        "print ()\n",
        "precision, recall, f1_score, _ = precision_recall_fscore_support(y_test, y_pred)\n",
        "\n",
        "\n",
        "for i, v in enumerate(['p1', 'p2', 'p3', 'p4']):\n",
        "    print(f\"Class {v}:\")\n",
        "    print(f\"Precision: {precision[i]}\")\n",
        "    print(f\"Recall: {recall[i]}\")\n",
        "    print(f\"F1 Score: {f1_score[i]}\")\n",
        "    print()\n",
        "\n"
      ]
    },
    {
      "cell_type": "markdown",
      "metadata": {
        "id": "6C-1zdXBafe2"
      },
      "source": [
        "1. **Data Splitting**:\n",
        "    - The dataset is split into training and testing subsets using the `train_test_split` function.\n",
        "    - `x_train` and `y_train` represent the features and target variable for the training set, respectively.\n",
        "    - `x_test` and `y_test` represent the features and target variable for the testing set, respectively.\n",
        "\n",
        "2. **Random Forest Classifier**:\n",
        "    - A Random Forest classifier is created with the following parameters:\n",
        "        - `n_estimators`: The number of decision trees in the forest (200 in this case).\n",
        "        - `random_state`: A seed for random number generation to ensure reproducibility.\n",
        "    - The classifier is trained on the training data using `rf_classifier.fit(x_train, y_train)`.\n",
        "\n",
        "3. **Predictions and Evaluation**:\n",
        "    - Predictions are made on the testing data using `y_pred = rf_classifier.predict(x_test)`.\n",
        "    - The accuracy of the model is calculated using `accuracy_score(y_test, y_pred)`.\n",
        "    - Precision, recall, and F1-score are computed for each class using `precision_recall_fscore_support`.\n"
      ]
    },
    {
      "cell_type": "code",
      "execution_count": 35,
      "metadata": {
        "id": "HCUoIoEhafe2"
      },
      "outputs": [],
      "source": [
        "!pip install xgboost -U -q"
      ]
    },
    {
      "cell_type": "code",
      "execution_count": 36,
      "metadata": {
        "id": "FmPfSa7Xafe6",
        "colab": {
          "base_uri": "https://localhost:8080/"
        },
        "outputId": "041579a9-0cdc-433e-8c24-2f75e1983630"
      },
      "outputs": [
        {
          "output_type": "stream",
          "name": "stdout",
          "text": [
            "\n",
            "Accuracy: 0.78\n",
            "\n",
            "Class p1:\n",
            "Precision: 0.823906083244397\n",
            "Recall: 0.7613412228796844\n",
            "F1 Score: 0.7913890312660175\n",
            "\n",
            "Class p2:\n",
            "Precision: 0.8255418233924413\n",
            "Recall: 0.913577799801784\n",
            "F1 Score: 0.8673315769665035\n",
            "\n",
            "Class p3:\n",
            "Precision: 0.4756380510440835\n",
            "Recall: 0.30943396226415093\n",
            "F1 Score: 0.37494284407864653\n",
            "\n",
            "Class p4:\n",
            "Precision: 0.7342386032977691\n",
            "Recall: 0.7356656948493683\n",
            "F1 Score: 0.7349514563106796\n",
            "\n"
          ]
        }
      ],
      "source": [
        "# 2. xgboost\n",
        "\n",
        "import xgboost as xgb\n",
        "from sklearn.preprocessing import LabelEncoder\n",
        "\n",
        "xgb_classifier = xgb.XGBClassifier(objective='multi:softmax',  num_class=4)\n",
        "\n",
        "\n",
        "\n",
        "y = df_encoded['Approved_Flag']\n",
        "x = df_encoded. drop ( ['Approved_Flag'], axis = 1 )\n",
        "\n",
        "\n",
        "label_encoder = LabelEncoder()\n",
        "y_encoded = label_encoder.fit_transform(y)\n",
        "\n",
        "\n",
        "x_train, x_test, y_train, y_test = train_test_split(x, y_encoded, test_size=0.2, random_state=42)\n",
        "\n",
        "\n",
        "\n",
        "\n",
        "xgb_classifier.fit(x_train, y_train)\n",
        "y_pred = xgb_classifier.predict(x_test)\n",
        "\n",
        "accuracy = accuracy_score(y_test, y_pred)\n",
        "print ()\n",
        "print(f'Accuracy: {accuracy:.2f}')\n",
        "print ()\n",
        "\n",
        "precision, recall, f1_score, _ = precision_recall_fscore_support(y_test, y_pred)\n",
        "\n",
        "for i, v in enumerate(['p1', 'p2', 'p3', 'p4']):\n",
        "    print(f\"Class {v}:\")\n",
        "    print(f\"Precision: {precision[i]}\")\n",
        "    print(f\"Recall: {recall[i]}\")\n",
        "    print(f\"F1 Score: {f1_score[i]}\")\n",
        "    print()\n",
        "\n",
        "\n"
      ]
    },
    {
      "cell_type": "markdown",
      "metadata": {
        "id": "YTT03c6Hafe6"
      },
      "source": [
        "\n",
        "1. **XGBoost Classifier**:\n",
        "    - XGBoost (Extreme Gradient Boosting) is a popular gradient boosting algorithm used for classification and regression tasks.\n",
        "    - In this code snippet:\n",
        "        - An XGBoost classifier is created using `xgb.XGBClassifier()`.\n",
        "        - The `objective` parameter is set to `'multi:softmax'`, indicating a multi-class classification problem.\n",
        "        - The `num_class` parameter is set to 4, representing the number of classes (p1, p2, p3, and p4).\n",
        "    - The classifier is trained on the training data using `xgb_classifier.fit(x_train, y_train)`.\n",
        "\n",
        "2. **Predictions and Evaluation**:\n",
        "    - Predictions are made on the testing data using `y_pred = xgb_classifier.predict(x_test)`.\n",
        "    - The accuracy of the model is calculated using `accuracy_score(y_test, y_pred)`.\n",
        "    - Precision, recall, and F1-score are computed for each class using `precision_recall_fscore_support`."
      ]
    },
    {
      "cell_type": "code",
      "execution_count": 37,
      "metadata": {
        "id": "rIc79mN9afe6",
        "colab": {
          "base_uri": "https://localhost:8080/"
        },
        "outputId": "4660b3da-21c9-4714-f587-3b14a2406a5b"
      },
      "outputs": [
        {
          "output_type": "stream",
          "name": "stdout",
          "text": [
            "\n",
            "Accuracy: 0.71\n",
            "\n",
            "Class p1:\n",
            "Precision: 0.7233626588465298\n",
            "Recall: 0.7297830374753451\n",
            "F1 Score: 0.7265586647029946\n",
            "\n",
            "Class p2:\n",
            "Precision: 0.8113574484636328\n",
            "Recall: 0.8269573835480674\n",
            "F1 Score: 0.8190831451850398\n",
            "\n",
            "Class p3:\n",
            "Precision: 0.3394863563402889\n",
            "Recall: 0.3192452830188679\n",
            "F1 Score: 0.3290548424737456\n",
            "\n",
            "Class p4:\n",
            "Precision: 0.6477045908183633\n",
            "Recall: 0.630709426627794\n",
            "F1 Score: 0.6390940423436731\n",
            "\n"
          ]
        }
      ],
      "source": [
        "# 3. Decision Tree\n",
        "from sklearn.tree import DecisionTreeClassifier\n",
        "\n",
        "\n",
        "y = df_encoded['Approved_Flag']\n",
        "x = df_encoded. drop ( ['Approved_Flag'], axis = 1 )\n",
        "\n",
        "x_train, x_test, y_train, y_test = train_test_split(x, y, test_size=0.2, random_state=42)\n",
        "\n",
        "\n",
        "dt_model = DecisionTreeClassifier(max_depth=20, min_samples_split=10)\n",
        "dt_model.fit(x_train, y_train)\n",
        "y_pred = dt_model.predict(x_test)\n",
        "\n",
        "accuracy = accuracy_score(y_test, y_pred)\n",
        "print ()\n",
        "print(f\"Accuracy: {accuracy:.2f}\")\n",
        "print ()\n",
        "\n",
        "precision, recall, f1_score, _ = precision_recall_fscore_support(y_test, y_pred)\n",
        "\n",
        "for i, v in enumerate(['p1', 'p2', 'p3', 'p4']):\n",
        "    print(f\"Class {v}:\")\n",
        "    print(f\"Precision: {precision[i]}\")\n",
        "    print(f\"Recall: {recall[i]}\")\n",
        "    print(f\"F1 Score: {f1_score[i]}\")\n",
        "    print()\n"
      ]
    },
    {
      "cell_type": "markdown",
      "metadata": {
        "id": "cxOUtQnUafe6"
      },
      "source": [
        "1. **Data Splitting**:\n",
        "    - The dataset is divided into training and testing subsets using the `train_test_split` function.\n",
        "    - `x_train` and `y_train` represent the features and target variable for the training set, respectively.\n",
        "    - `x_test` and `y_test` represent the features and target variable for the testing set, respectively.\n",
        "\n",
        "2. **Decision Tree Model**:\n",
        "    - A Decision Tree classifier is created with the following parameters:\n",
        "        - `max_depth`: The maximum depth of the tree (set to 20 in this case).\n",
        "        - `min_samples_split`: The minimum number of samples required to split an internal node (set to 10).\n",
        "    - The classifier is trained on the training data using `dt_model.fit(x_train, y_train)`.\n",
        "\n",
        "3. **Predictions and Evaluation**:\n",
        "    - Predictions are made on the testing data using `y_pred = dt_model.predict(x_test)`.\n",
        "    - The accuracy of the model is calculated using `accuracy_score(y_test, y_pred)`.\n",
        "    - Precision, recall, and F1-score are computed for each class using `precision_recall_fscore_support`.\n"
      ]
    },
    {
      "cell_type": "markdown",
      "source": [
        "- **Xgboost is giving me best results. So We will further finetune it  and apply standard scaler.**"
      ],
      "metadata": {
        "id": "OThEperfS9PD"
      }
    },
    {
      "cell_type": "code",
      "execution_count": 38,
      "metadata": {
        "id": "PSaf3slBafe6",
        "colab": {
          "base_uri": "https://localhost:8080/"
        },
        "outputId": "dfccf66e-6e87-4ed0-ffa1-48287d71ed08"
      },
      "outputs": [
        {
          "output_type": "stream",
          "name": "stdout",
          "text": [
            "Accuracy: 0.78\n",
            "Class p1:\n",
            "Precision: 0.823906083244397\n",
            "Recall: 0.7613412228796844\n",
            "F1 Score: 0.7913890312660175\n",
            "\n",
            "Class p2:\n",
            "Precision: 0.8255418233924413\n",
            "Recall: 0.913577799801784\n",
            "F1 Score: 0.8673315769665035\n",
            "\n",
            "Class p3:\n",
            "Precision: 0.4756380510440835\n",
            "Recall: 0.30943396226415093\n",
            "F1 Score: 0.37494284407864653\n",
            "\n",
            "Class p4:\n",
            "Precision: 0.7342386032977691\n",
            "Recall: 0.7356656948493683\n",
            "F1 Score: 0.7349514563106796\n",
            "\n"
          ]
        }
      ],
      "source": [
        "\n",
        "from sklearn.preprocessing import StandardScaler\n",
        "\n",
        "columns_to_be_scaled = ['Age_Oldest_TL','Age_Newest_TL','time_since_recent_payment',\n",
        "'max_recent_level_of_deliq','recent_level_of_deliq',\n",
        "'time_since_recent_enq','NETMONTHLYINCOME','Time_With_Curr_Empr']\n",
        "\n",
        "for i in columns_to_be_scaled:\n",
        "    column_data = df_encoded[i].values.reshape(-1, 1)\n",
        "    scaler = StandardScaler()\n",
        "    scaled_column = scaler.fit_transform(column_data)\n",
        "    df_encoded[i] = scaled_column\n",
        "\n",
        "\n",
        "\n",
        "import xgboost as xgb\n",
        "from sklearn.preprocessing import LabelEncoder\n",
        "\n",
        "xgb_classifier = xgb.XGBClassifier(objective='multi:softmax',  num_class=4)\n",
        "\n",
        "\n",
        "\n",
        "y = df_encoded['Approved_Flag']\n",
        "x = df_encoded. drop ( ['Approved_Flag'], axis = 1 )\n",
        "\n",
        "\n",
        "label_encoder = LabelEncoder()\n",
        "y_encoded = label_encoder.fit_transform(y)\n",
        "\n",
        "x_train, x_test, y_train, y_test = train_test_split(x, y_encoded, test_size=0.2, random_state=42)\n",
        "\n",
        "xgb_classifier.fit(x_train, y_train)\n",
        "y_pred = xgb_classifier.predict(x_test)\n",
        "\n",
        "accuracy = accuracy_score(y_test, y_pred)\n",
        "print(f'Accuracy: {accuracy:.2f}')\n",
        "\n",
        "\n",
        "precision, recall, f1_score, _ = precision_recall_fscore_support(y_test, y_pred)\n",
        "\n",
        "for i, v in enumerate(['p1', 'p2', 'p3', 'p4']):\n",
        "    print(f\"Class {v}:\")\n",
        "    print(f\"Precision: {precision[i]}\")\n",
        "    print(f\"Recall: {recall[i]}\")\n",
        "    print(f\"F1 Score: {f1_score[i]}\")\n",
        "    print()\n"
      ]
    },
    {
      "cell_type": "markdown",
      "source": [
        "- **No improvement in metrices**\n",
        "- **So now we will do Hyperparameter tuning**"
      ],
      "metadata": {
        "id": "nZYldKILSwN8"
      }
    },
    {
      "cell_type": "markdown",
      "source": [
        "**1. GridSearchCV for XGBoost** :\n",
        "GridSearchCV exhaustively tests all combinations of hyperparameters to find the best combination. This method is thorough but computationally expensive."
      ],
      "metadata": {
        "id": "UQVAjRrrluvi"
      }
    },
    {
      "cell_type": "code",
      "execution_count": 39,
      "metadata": {
        "id": "VMXz-l6pafe6",
        "colab": {
          "base_uri": "https://localhost:8080/"
        },
        "outputId": "1ea86975-1b28-4ebc-fd43-c6043c37f039"
      },
      "outputs": [
        {
          "output_type": "stream",
          "name": "stdout",
          "text": [
            "Best Hyperparameters: {'learning_rate': 0.2, 'max_depth': 3, 'n_estimators': 200}\n",
            "Test Accuracy: 0.7811719957209081\n"
          ]
        }
      ],
      "source": [
        "\n",
        "# Hyperparameter tuning in xgboost\n",
        "from sklearn.model_selection import GridSearchCV\n",
        "x_train, x_test, y_train, y_test = train_test_split(x, y_encoded, test_size=0.2, random_state=42)\n",
        "\n",
        "# Define the XGBClassifier with the initial set of hyperparameters\n",
        "xgb_model = xgb.XGBClassifier(objective='multi:softmax', num_class=4)\n",
        "\n",
        "# Define the parameter grid for hyperparameter tuning\n",
        "\n",
        "param_grid = {\n",
        "    'n_estimators': [50, 100, 200],\n",
        "    'max_depth': [3, 5, 7],\n",
        "    'learning_rate': [0.01, 0.1, 0.2],\n",
        "}\n",
        "\n",
        "grid_search = GridSearchCV(estimator=xgb_model, param_grid=param_grid, cv=3, scoring='accuracy', n_jobs=-1)\n",
        "grid_search.fit(x_train, y_train)\n",
        "\n",
        "# Print the best hyperparameters\n",
        "print(\"Best Hyperparameters:\", grid_search.best_params_)\n",
        "\n",
        "# Evaluate the model with the best hyperparameters on the test set\n",
        "best_model = grid_search.best_estimator_\n",
        "accuracy = best_model.score(x_test, y_test)\n",
        "print(\"Test Accuracy:\", accuracy)\n"
      ]
    },
    {
      "cell_type": "markdown",
      "source": [
        "- **Best Hyperparameters: ('learning_rate': 0.2, 'max_depth': 3, 'n_estimators': 200)**\n",
        "\n",
        "- **Test Accuracy: 0.781**\n",
        "\n",
        "\n",
        "- **Based on risk appetite of the bank, you will suggest P1,P2,P3,P4 to the business end user**\n"
      ],
      "metadata": {
        "id": "qN_pGwVGSNNT"
      }
    },
    {
      "cell_type": "markdown",
      "source": [
        "**Hyperparameter Sensitivity Analysis GridSearchCV**"
      ],
      "metadata": {
        "id": "YiK10tnu5i7m"
      }
    },
    {
      "cell_type": "code",
      "source": [
        "import pandas as pd\n",
        "import seaborn as sns\n",
        "import matplotlib.pyplot as plt\n",
        "\n",
        "# Extract the grid search results into a DataFrame\n",
        "results = pd.DataFrame(grid_search.cv_results_)\n",
        "\n",
        "# Plot heatmaps or line plots to see how the model accuracy changes with different hyperparameters\n",
        "# Example: Plotting the relationship between learning rate and accuracy\n",
        "\n",
        "pivot_table = results.pivot_table(values='mean_test_score', index='param_learning_rate', columns='param_max_depth')\n",
        "sns.heatmap(pivot_table, annot=True, cmap='viridis')\n",
        "plt.title('Sensitivity of Model Accuracy to Learning Rate and Max Depth')\n",
        "plt.xlabel('Max Depth')\n",
        "plt.ylabel('Learning Rate')\n",
        "plt.show()\n"
      ],
      "metadata": {
        "colab": {
          "base_uri": "https://localhost:8080/",
          "height": 472
        },
        "id": "MzBDrWOJwqrE",
        "outputId": "4c71a1a7-95a1-47df-90f8-00e613760b7e"
      },
      "execution_count": 57,
      "outputs": [
        {
          "output_type": "display_data",
          "data": {
            "text/plain": [
              "<Figure size 640x480 with 2 Axes>"
            ],
            "image/png": "[encoded data removed]"
          },
          "metadata": {}
        }
      ]
    },
    {
      "cell_type": "markdown",
      "source": [
        "**2. RandomizedSearchCV for XGBoost** :\n",
        "RandomizedSearchCV selects random combinations of hyperparameters, which makes it faster than GridSearchCV while still providing good results."
      ],
      "metadata": {
        "id": "ryg8OkSFl3KS"
      }
    },
    {
      "cell_type": "code",
      "source": [
        "from sklearn.model_selection import RandomizedSearchCV\n",
        "\n",
        "# Define the parameter distribution\n",
        "param_dist = {\n",
        "    'n_estimators': [50, 100, 200],\n",
        "    'max_depth': [3, 5, 7, 10],\n",
        "    'learning_rate': [0.001, 0.01, 0.1, 0.2],\n",
        "    'colsample_bytree': [0.3, 0.5, 0.7, 1.0]\n",
        "}\n",
        "\n",
        "# Initialize RandomizedSearchCV\n",
        "random_search = RandomizedSearchCV(estimator=xgb_model, param_distributions=param_dist, n_iter=20, cv=3, scoring='accuracy', n_jobs=-1)\n",
        "random_search.fit(x_train, y_train)\n",
        "\n",
        "# Best parameters and test accuracy\n",
        "print(\"Best Hyperparameters:\", random_search.best_params_)\n",
        "best_model = random_search.best_estimator_\n",
        "accuracy = best_model.score(x_test, y_test)\n",
        "print(f\"Test Accuracy: {accuracy:.2f}\")\n"
      ],
      "metadata": {
        "colab": {
          "base_uri": "https://localhost:8080/"
        },
        "id": "nHI9OYdCl9Ag",
        "outputId": "efe7cb4a-9043-485b-9921-87adefa6b24f"
      },
      "execution_count": 40,
      "outputs": [
        {
          "output_type": "stream",
          "name": "stderr",
          "text": [
            "/usr/local/lib/python3.10/dist-packages/numpy/ma/core.py:2820: RuntimeWarning: invalid value encountered in cast\n",
            "  _data = np.array(data, dtype=dtype, copy=copy,\n"
          ]
        },
        {
          "output_type": "stream",
          "name": "stdout",
          "text": [
            "Best Hyperparameters: {'n_estimators': 200, 'max_depth': 3, 'learning_rate': 0.2, 'colsample_bytree': 0.5}\n",
            "Test Accuracy: 0.78\n"
          ]
        }
      ]
    },
    {
      "cell_type": "code",
      "source": [
        "print(f\"Test Accuracy: {accuracy:.4f}\")"
      ],
      "metadata": {
        "colab": {
          "base_uri": "https://localhost:8080/"
        },
        "id": "qufRmJxJvW1B",
        "outputId": "9439ea8c-7912-4418-859f-3afe4c2537b0"
      },
      "execution_count": 46,
      "outputs": [
        {
          "output_type": "stream",
          "name": "stdout",
          "text": [
            "Test Accuracy: 0.7818\n"
          ]
        }
      ]
    },
    {
      "cell_type": "markdown",
      "source": [
        "**Best Hyperparameters:** **{'n_estimators': 200, 'max_depth': 3, 'learning_rate': 0.2, 'colsample_bytree': 0.5}**\n",
        "\n",
        "**Test Accuracy:** **0.78**"
      ],
      "metadata": {
        "id": "ujodjX_-qhk1"
      }
    },
    {
      "cell_type": "markdown",
      "source": [
        "**Hyperparameter Sensitivity Analysis RandomizedSearchCV**"
      ],
      "metadata": {
        "id": "d3j0oRPF5rhH"
      }
    },
    {
      "cell_type": "code",
      "source": [
        "import pandas as pd\n",
        "import seaborn as sns\n",
        "import matplotlib.pyplot as plt\n",
        "\n",
        "# Extract the random_search results into a DataFrame\n",
        "results = pd.DataFrame(random_search.cv_results_)\n",
        "\n",
        "# Plot heatmaps or line plots to see how the model accuracy changes with different hyperparameters\n",
        "# Example: Plotting the relationship between learning rate and accuracy\n",
        "\n",
        "pivot_table = results.pivot_table(values='mean_test_score', index='param_learning_rate', columns='param_max_depth')\n",
        "sns.heatmap(pivot_table, annot=True, cmap='viridis')\n",
        "plt.title('Sensitivity of Model Accuracy to Learning Rate and Max Depth')\n",
        "plt.xlabel('Max Depth')\n",
        "plt.ylabel('Learning Rate')\n",
        "plt.show()\n"
      ],
      "metadata": {
        "colab": {
          "base_uri": "https://localhost:8080/",
          "height": 472
        },
        "id": "qxzNy8_qw_89",
        "outputId": "18cd666d-7040-4d27-8f34-757050c91d0d"
      },
      "execution_count": 58,
      "outputs": [
        {
          "output_type": "display_data",
          "data": {
            "text/plain": [
              "<Figure size 640x480 with 2 Axes>"
            ],
            "image/png": "[encoded data removed]"
          },
          "metadata": {}
        }
      ]
    },
    {
      "cell_type": "markdown",
      "source": [
        "**3. Bayesian Optimization (Using Hyperopt)** :\n",
        "Bayesian optimization uses probabilistic models to find the best set of hyperparameters more efficiently by focusing on the most promising regions of the hyperparameter space."
      ],
      "metadata": {
        "id": "SR6ufQPwmNRz"
      }
    },
    {
      "cell_type": "code",
      "source": [
        "from hyperopt import fmin, tpe, hp, Trials\n",
        "import xgboost as xgb\n",
        "\n",
        "# Define the objective function for hyperparameter optimization\n",
        "def objective(space):\n",
        "    xgb_clf = xgb.XGBClassifier(\n",
        "        n_estimators=int(space['n_estimators']),\n",
        "        max_depth=int(space['max_depth']),\n",
        "        learning_rate=space['learning_rate']\n",
        "    )\n",
        "    xgb_clf.fit(x_train, y_train)\n",
        "    accuracy = xgb_clf.score(x_test, y_test)\n",
        "    return -accuracy  # Minimize the negative accuracy\n",
        "\n",
        "# Define the search space for hyperparameters\n",
        "space = {\n",
        "    'n_estimators': hp.quniform('n_estimators', 50, 200, 50),\n",
        "    'max_depth': hp.quniform('max_depth', 3, 7, 1),\n",
        "    'learning_rate': hp.uniform('learning_rate', 0.01, 0.2)\n",
        "}\n",
        "\n",
        "# Run the optimization\n",
        "trials = Trials()\n",
        "best_hyperparams = fmin(fn=objective, space=space, algo=tpe.suggest, max_evals=50, trials=trials)\n",
        "\n",
        "print(\"Best Hyperparameters:\", best_hyperparams)\n"
      ],
      "metadata": {
        "colab": {
          "base_uri": "https://localhost:8080/"
        },
        "id": "DnxzsQUPmfcX",
        "outputId": "c505ed22-e6f8-4816-930f-7009c61c6f2a"
      },
      "execution_count": 41,
      "outputs": [
        {
          "output_type": "stream",
          "name": "stdout",
          "text": [
            "100%|██████████| 50/50 [03:16<00:00,  3.93s/trial, best loss: -0.7817663140377986]\n",
            "Best Hyperparameters: {'learning_rate': 0.1825809643618197, 'max_depth': 3.0, 'n_estimators': 200.0}\n"
          ]
        }
      ]
    },
    {
      "cell_type": "code",
      "source": [
        "# After optimization, train and evaluate the model with the best hyperparameters\n",
        "best_xgb = xgb.XGBClassifier(\n",
        "    n_estimators=int(best_hyperparams['n_estimators']),\n",
        "    max_depth=int(best_hyperparams['max_depth']),\n",
        "    learning_rate=best_hyperparams['learning_rate']\n",
        ")\n",
        "\n",
        "best_xgb.fit(x_train, y_train)\n",
        "accuracy = best_xgb.score(x_test, y_test)\n",
        "\n",
        "print(f\"Accuracy after Bayesian optimization: {accuracy:.2f}\")"
      ],
      "metadata": {
        "colab": {
          "base_uri": "https://localhost:8080/"
        },
        "id": "cSXetojyrWQH",
        "outputId": "43f7782c-af38-4f13-8e09-a8c513981dc3"
      },
      "execution_count": 44,
      "outputs": [
        {
          "output_type": "stream",
          "name": "stdout",
          "text": [
            "Accuracy after Bayesian optimization: 0.78\n"
          ]
        }
      ]
    },
    {
      "cell_type": "code",
      "source": [
        "print(f\"Accuracy after Bayesian optimization: {accuracy:.4f}\")"
      ],
      "metadata": {
        "colab": {
          "base_uri": "https://localhost:8080/"
        },
        "id": "XvNJdOZOvFNR",
        "outputId": "ea759e7b-2607-49d9-ad09-e7f7a5554f4b"
      },
      "execution_count": 45,
      "outputs": [
        {
          "output_type": "stream",
          "name": "stdout",
          "text": [
            "Accuracy after Bayesian optimization: 0.7818\n"
          ]
        }
      ]
    },
    {
      "cell_type": "markdown",
      "source": [
        "**Best Hyperparameters: {'learning_rate': 0.1825809643618197, 'max_depth': 3.0, 'n_estimators': 200.0}**\n",
        "\n",
        "**Accuracy after Bayesian optimization: 0.7818**"
      ],
      "metadata": {
        "id": "VZYIoPGmuEIU"
      }
    },
    {
      "cell_type": "markdown",
      "source": [
        "**Using Scikit-optimize library (skopt) to perform Bayesian optimization for hyperparameter tuning on an XGBoost classifier**"
      ],
      "metadata": {
        "id": "NJLdlmJZyXv1"
      }
    },
    {
      "cell_type": "code",
      "source": [
        "pip install scikit-optimize\n"
      ],
      "metadata": {
        "colab": {
          "base_uri": "https://localhost:8080/"
        },
        "id": "Ti_hnr8kykeG",
        "outputId": "0fbe34d8-706e-408f-c96b-4dcc3c1af694"
      },
      "execution_count": 59,
      "outputs": [
        {
          "output_type": "stream",
          "name": "stdout",
          "text": [
            "Collecting scikit-optimize\n",
            "  Downloading scikit_optimize-0.10.2-py2.py3-none-any.whl.metadata (9.7 kB)\n",
            "Requirement already satisfied: joblib>=0.11 in /usr/local/lib/python3.10/dist-packages (from scikit-optimize) (1.4.2)\n",
            "Collecting pyaml>=16.9 (from scikit-optimize)\n",
            "  Downloading pyaml-24.9.0-py3-none-any.whl.metadata (11 kB)\n",
            "Requirement already satisfied: numpy>=1.20.3 in /usr/local/lib/python3.10/dist-packages (from scikit-optimize) (1.26.4)\n",
            "Requirement already satisfied: scipy>=1.1.0 in /usr/local/lib/python3.10/dist-packages (from scikit-optimize) (1.13.1)\n",
            "Requirement already satisfied: scikit-learn>=1.0.0 in /usr/local/lib/python3.10/dist-packages (from scikit-optimize) (1.5.2)\n",
            "Requirement already satisfied: packaging>=21.3 in /usr/local/lib/python3.10/dist-packages (from scikit-optimize) (24.1)\n",
            "Requirement already satisfied: PyYAML in /usr/local/lib/python3.10/dist-packages (from pyaml>=16.9->scikit-optimize) (6.0.2)\n",
            "Requirement already satisfied: threadpoolctl>=3.1.0 in /usr/local/lib/python3.10/dist-packages (from scikit-learn>=1.0.0->scikit-optimize) (3.5.0)\n",
            "Downloading scikit_optimize-0.10.2-py2.py3-none-any.whl (107 kB)\n",
            "\u001b[?25l   \u001b[90m━━━━━━━━━━━━━━━━━━━━━━━━━━━━━━━━━━━━━━━━\u001b[0m \u001b[32m0.0/107.8 kB\u001b[0m \u001b[31m?\u001b[0m eta \u001b[36m-:--:--\u001b[0m\r\u001b[2K   \u001b[90m━━━━━━━━━━━━━━━━━━━━━━━━━━━━━━━━━━━━━━━━\u001b[0m \u001b[32m107.8/107.8 kB\u001b[0m \u001b[31m4.3 MB/s\u001b[0m eta \u001b[36m0:00:00\u001b[0m\n",
            "\u001b[?25hDownloading pyaml-24.9.0-py3-none-any.whl (24 kB)\n",
            "Installing collected packages: pyaml, scikit-optimize\n",
            "Successfully installed pyaml-24.9.0 scikit-optimize-0.10.2\n"
          ]
        }
      ]
    },
    {
      "cell_type": "code",
      "source": [
        "from skopt import BayesSearchCV\n",
        "from skopt.space import Real, Integer\n",
        "import xgboost as xgb\n",
        "from sklearn.model_selection import train_test_split\n",
        "from sklearn.metrics import accuracy_score\n",
        "\n",
        "# Define the hyperparameter space for Bayesian Optimization\n",
        "search_space = {\n",
        "    'learning_rate': Real(0.01, 0.2, prior='log-uniform'),\n",
        "    'max_depth': Integer(3, 9),\n",
        "    'n_estimators': Integer(50, 300),\n",
        "    'subsample': Real(0.6, 1.0),\n",
        "    'colsample_bytree': Real(0.6, 1.0)\n",
        "}\n",
        "\n",
        "# Initialize the XGBoost classifier\n",
        "xgb_clf = xgb.XGBClassifier(objective='multi:softmax', eval_metric='mlogloss', use_label_encoder=False)\n",
        "\n",
        "# Use Bayesian optimization (BayesSearchCV)\n",
        "bayes_search = BayesSearchCV(estimator=xgb_clf, search_spaces=search_space, n_iter=32, cv=3, n_jobs=-1, scoring='accuracy', verbose=0, random_state=42)\n",
        "\n",
        "# Fit Bayesian optimization\n",
        "bayes_search.fit(x_train, y_train)\n",
        "\n",
        "# Print the best hyperparameters and accuracy score\n",
        "print(\"Best Hyperparameters: \", bayes_search.best_params_)\n",
        "print(f\"Best Accuracy: {bayes_search.best_score_:.4f}\")\n"
      ],
      "metadata": {
        "colab": {
          "base_uri": "https://localhost:8080/"
        },
        "id": "AccTJqVeynBU",
        "outputId": "402b2fb3-d966-43b6-c626-a50bc37bedbc"
      },
      "execution_count": 60,
      "outputs": [
        {
          "output_type": "stream",
          "name": "stderr",
          "text": [
            "/usr/local/lib/python3.10/dist-packages/xgboost/core.py:158: UserWarning: [16:06:04] WARNING: /workspace/src/learner.cc:740: \n",
            "Parameters: { \"use_label_encoder\" } are not used.\n",
            "\n",
            "  warnings.warn(smsg, UserWarning)\n"
          ]
        },
        {
          "output_type": "stream",
          "name": "stdout",
          "text": [
            "Best Hyperparameters:  OrderedDict([('colsample_bytree', 0.9111541806477735), ('learning_rate', 0.07104506876549765), ('max_depth', 5), ('n_estimators', 157), ('subsample', 0.8084870995715169)])\n",
            "Best Accuracy: 0.7805\n"
          ]
        }
      ]
    },
    {
      "cell_type": "markdown",
      "source": [
        "**Best Hyperparameters:  OrderedDict([('colsample_bytree', 0.9111541806477735), ('learning_rate', 0.07104506876549765), ('max_depth', 5), ('n_estimators', 157), ('subsample', 0.8084870995715169)])**\n",
        "\n",
        "**Best Accuracy: 0.7805**"
      ],
      "metadata": {
        "id": "G-jx_aHx1dty"
      }
    },
    {
      "cell_type": "markdown",
      "source": [
        "**Plot the sensitivity of accuracy to key hyperparameters (e.g., learning rate and max depth)**"
      ],
      "metadata": {
        "id": "XgfjEilb1tUh"
      }
    },
    {
      "cell_type": "code",
      "source": [
        "import pandas as pd\n",
        "import seaborn as sns\n",
        "import matplotlib.pyplot as plt\n",
        "\n",
        "# Get the optimization results\n",
        "opt_results = pd.DataFrame(bayes_search.cv_results_)\n",
        "\n",
        "# Plot the sensitivity of accuracy to key hyperparameters (e.g., learning rate and max depth)\n",
        "sns.scatterplot(x='param_learning_rate', y='mean_test_score', hue='param_max_depth', data=opt_results, palette=\"viridis\", legend='full')\n",
        "plt.title('Sensitivity of Model Accuracy to Learning Rate and Max Depth')\n",
        "plt.xlabel('Learning Rate')\n",
        "plt.ylabel('Accuracy')\n",
        "plt.show()\n"
      ],
      "metadata": {
        "colab": {
          "base_uri": "https://localhost:8080/",
          "height": 472
        },
        "id": "PMbPlEBcyqT6",
        "outputId": "b429d184-cc0d-41fe-f9b2-85c14b11cd7b"
      },
      "execution_count": 62,
      "outputs": [
        {
          "output_type": "display_data",
          "data": {
            "text/plain": [
              "<Figure size 640x480 with 1 Axes>"
            ],
            "image/png": "[encoded data removed]"
          },
          "metadata": {}
        }
      ]
    },
    {
      "cell_type": "markdown",
      "source": [
        "**Full Sensitivity Analysis Across Multiple Hyperparameters**"
      ],
      "metadata": {
        "id": "QrHfbqS4154C"
      }
    },
    {
      "cell_type": "code",
      "source": [
        "# Pivot the results for plotting a heatmap\n",
        "pivot_table = opt_results.pivot_table(values='mean_test_score', index='param_learning_rate', columns='param_max_depth')\n",
        "sns.heatmap(pivot_table, annot=True, cmap='coolwarm')\n",
        "plt.title('Sensitivity of Accuracy to Learning Rate and Max Depth')\n",
        "plt.xlabel('Max Depth')\n",
        "plt.ylabel('Learning Rate')\n",
        "plt.show()\n"
      ],
      "metadata": {
        "colab": {
          "base_uri": "https://localhost:8080/",
          "height": 472
        },
        "id": "2p8Rs7v8yzKw",
        "outputId": "9c29dbb8-47bb-44f6-a62d-43e80b8a7f4d"
      },
      "execution_count": 63,
      "outputs": [
        {
          "output_type": "display_data",
          "data": {
            "text/plain": [
              "<Figure size 640x480 with 2 Axes>"
            ],
            "image/png": "[encoded data removed]"
          },
          "metadata": {}
        }
      ]
    },
    {
      "cell_type": "markdown",
      "source": [
        "**Bayesian Optimization Iterations and Convergence Plot**"
      ],
      "metadata": {
        "id": "oCEq-b1c1-Mp"
      }
    },
    {
      "cell_type": "code",
      "source": [
        "# Analyze 'n_estimators' vs 'mean_test_score'\n",
        "sns.lineplot(x='param_n_estimators', y='mean_test_score', data=opt_results)\n",
        "plt.title('Sensitivity of Accuracy to Number of Estimators')\n",
        "plt.xlabel('Number of Estimators')\n",
        "plt.ylabel('Accuracy')\n",
        "plt.show()\n",
        "\n",
        "# Analyze 'subsample' vs 'mean_test_score'\n",
        "sns.lineplot(x='param_subsample', y='mean_test_score', data=opt_results)\n",
        "plt.title('Sensitivity of Accuracy to Subsample')\n",
        "plt.xlabel('Subsample')\n",
        "plt.ylabel('Accuracy')\n",
        "plt.show()\n"
      ],
      "metadata": {
        "colab": {
          "base_uri": "https://localhost:8080/",
          "height": 927
        },
        "id": "LtHSs-2Ay6UZ",
        "outputId": "8868e0df-9b5e-4ef9-9974-e04aa296b10c"
      },
      "execution_count": 64,
      "outputs": [
        {
          "output_type": "display_data",
          "data": {
            "text/plain": [
              "<Figure size 640x480 with 1 Axes>"
            ],
            "image/png": "[encoded data removed]"
          },
          "metadata": {}
        },
        {
          "output_type": "display_data",
          "data": {
            "text/plain": [
              "<Figure size 640x480 with 1 Axes>"
            ],
            "image/png": "[encoded data removed]"
          },
          "metadata": {}
        }
      ]
    },
    {
      "cell_type": "markdown",
      "source": [
        "**Experimenting with Different Hyperparameter Combinations**"
      ],
      "metadata": {
        "id": "cgiKw5Hq41wV"
      }
    },
    {
      "cell_type": "code",
      "source": [
        "# Hyperparameter tuning for xgboost (Used in the session)\n",
        "\n",
        "# Define the hyperparameter grid\n",
        "param_grid = {\n",
        "  'colsample_bytree': [0.1, 0.3, 0.5, 0.7, 0.9],\n",
        "  'learning_rate'   : [0.001, 0.01, 0.1, 1],\n",
        "  'max_depth'       : [3, 5, 8, 10],\n",
        "  'alpha'           : [1, 10, 100],\n",
        "  'n_estimators'    : [10,50,100]\n",
        "}\n",
        "\n",
        "index = 0\n",
        "\n",
        "answers_grid = {\n",
        "    'combination'       :[],\n",
        "    'train_Accuracy'    :[],\n",
        "    'test_Accuracy'     :[],\n",
        "    'colsample_bytree'  :[],\n",
        "    'learning_rate'     :[],\n",
        "    'max_depth'         :[],\n",
        "    'alpha'             :[],\n",
        "    'n_estimators'      :[]\n",
        "\n",
        "    }\n",
        "\n",
        "\n",
        "# Loop through each combination of hyperparameters\n",
        "for colsample_bytree in param_grid['colsample_bytree']:\n",
        "  for learning_rate in param_grid['learning_rate']:\n",
        "    for max_depth in param_grid['max_depth']:\n",
        "      for alpha in param_grid['alpha']:\n",
        "          for n_estimators in param_grid['n_estimators']:\n",
        "\n",
        "              index = index + 1\n",
        "\n",
        "              # Define and train the XGBoost model\n",
        "              model = xgb.XGBClassifier(objective='multi:softmax',\n",
        "                                       num_class=4,\n",
        "                                       colsample_bytree = colsample_bytree,\n",
        "                                       learning_rate = learning_rate,\n",
        "                                       max_depth = max_depth,\n",
        "                                       alpha = alpha,\n",
        "                                       n_estimators = n_estimators)\n",
        "\n",
        "\n",
        "\n",
        "              y = df_encoded['Approved_Flag']\n",
        "              x = df_encoded. drop ( ['Approved_Flag'], axis = 1 )\n",
        "\n",
        "              label_encoder = LabelEncoder()\n",
        "              y_encoded = label_encoder.fit_transform(y)\n",
        "\n",
        "\n",
        "              x_train, x_test, y_train, y_test = train_test_split(x, y_encoded, test_size=0.2, random_state=42)\n",
        "\n",
        "\n",
        "              model.fit(x_train, y_train)\n"
      ],
      "metadata": {
        "id": "c90hy17GSIs7"
      },
      "execution_count": 42,
      "outputs": []
    },
    {
      "cell_type": "code",
      "source": [
        "#Predict on training and testing sets\n",
        "y_pred_train = model.predict(x_train)\n",
        "y_pred_test = model.predict(x_test)\n",
        "\n",
        "\n",
        "# Calculate train and test results\n",
        "\n",
        "train_accuracy =  accuracy_score (y_train, y_pred_train)\n",
        "test_accuracy  =  accuracy_score (y_test , y_pred_test)\n",
        "\n",
        "\n",
        "\n",
        "# Include into the lists\n",
        "answers_grid ['combination'].append(index)\n",
        "answers_grid ['train_Accuracy'].append(train_accuracy)\n",
        "answers_grid ['test_Accuracy'].append(test_accuracy)\n",
        "answers_grid ['colsample_bytree'].append(colsample_bytree)\n",
        "answers_grid ['learning_rate'].append(learning_rate)\n",
        "answers_grid ['max_depth'].append(max_depth)\n",
        "answers_grid ['alpha'].append(alpha)\n",
        "answers_grid ['n_estimators'].append(n_estimators)\n",
        "\n",
        "\n",
        "# Print results for this combination\n",
        "print(f\"Combination {index}\")\n",
        "print(f\"colsample_bytree: {colsample_bytree}, learning_rate: {learning_rate}, max_depth: {max_depth}, alpha: {alpha}, n_estimators: {n_estimators}\")\n",
        "print(f\"Train Accuracy: {train_accuracy:.2f}\")\n",
        "print(f\"Test Accuracy : {test_accuracy :.2f}\")\n",
        "print(\"-\" * 30)\n"
      ],
      "metadata": {
        "colab": {
          "base_uri": "https://localhost:8080/"
        },
        "id": "Gli-nscMSIlU",
        "outputId": "65240686-f5a1-4e1d-a482-51087dac08ce"
      },
      "execution_count": 43,
      "outputs": [
        {
          "output_type": "stream",
          "name": "stdout",
          "text": [
            "Combination 720\n",
            "colsample_bytree: 0.9, learning_rate: 1, max_depth: 10, alpha: 100, n_estimators: 100\n",
            "Train Accuracy: 0.79\n",
            "Test Accuracy : 0.77\n",
            "------------------------------\n"
          ]
        }
      ]
    },
    {
      "cell_type": "markdown",
      "source": [
        "**-Combination 720**\n",
        "\n",
        "**-colsample_bytree: 0.9, learning_rate: 1, max_depth: 10, alpha: 100 ,n_estimators: 100**\n",
        "\n",
        "**-Train Accuracy: 0.79**\n",
        "\n",
        "**-Test Accuracy : 0.77**"
      ],
      "metadata": {
        "id": "Vc9n8waqdq1-"
      }
    },
    {
      "cell_type": "markdown",
      "source": [
        "#**Note:**\n",
        "\n",
        "**Random Forest:** Provides robustness and generalization, effective when overfitting is a concern.\n",
        "\n",
        "**XGBoost:** Highly effective for tabular data, especially when precision and flexibility in hyperparameter tuning are important.\n",
        "\n",
        "**Decision Tree:** Offers interpretability but can suffer from overfitting. Used as a baseline model.\n",
        "\n",
        "\n",
        "\n",
        "# **Tuning methods:**\n",
        "\n",
        "**GridSearchCV:** Thorough, but expensive.\n",
        "\n",
        "**RandomizedSearchCV:** Faster but still effective.\n",
        "\n",
        "**Bayesian Optimization:** Efficient for large search spaces and preferred for real-world applications."
      ],
      "metadata": {
        "id": "sOWUisPCn_de"
      }
    },
    {
      "cell_type": "markdown",
      "source": [
        "# **1. Feature Importance and Selection**\n",
        "\n",
        "**Analysis:** Understanding which features are most important in predicting the target variable (Approved_Flag) can give you insights into the dataset.\n",
        "\n",
        "**How:** Use feature importance methods such as:\n",
        "\n",
        "**XGBoost Feature Importance:** XGBoost provides built-in feature importance scores based on various metrics like \"gain,\" \"cover,\" or \"weight.\"\n",
        "\n",
        "**Permutation Importance:** This method helps you understand how important a feature is by measuring how model performance degrades when the feature is shuffled.\n",
        "\n",
        "**SHAP (SHapley Additive exPlanations):** SHAP values provide a more nuanced explanation of how each feature impacts individual predictions.\n",
        "\n",
        "**Action:** Based on the results, you could perform feature selection to simplify the model by removing less important features, which might improve generalization and interpretability."
      ],
      "metadata": {
        "id": "_CR4LLyk3qHF"
      }
    },
    {
      "cell_type": "code",
      "source": [
        "from xgboost import plot_importance\n",
        "import matplotlib.pyplot as plt\n",
        "from matplotlib.pyplot import figure\n",
        "\n",
        "\n",
        "\n",
        "# Plot feature importance\n",
        "plot_importance(best_xgb)\n",
        "figure(figsize=(20, 20), dpi=80)\n"
      ],
      "metadata": {
        "id": "WLGE-zkvcZ-2",
        "colab": {
          "base_uri": "https://localhost:8080/",
          "height": 507
        },
        "outputId": "e05c8d35-a705-4401-e781-340aba180fa8"
      },
      "execution_count": 54,
      "outputs": [
        {
          "output_type": "execute_result",
          "data": {
            "text/plain": [
              "<Figure size 1600x1600 with 0 Axes>"
            ]
          },
          "metadata": {},
          "execution_count": 54
        },
        {
          "output_type": "display_data",
          "data": {
            "text/plain": [
              "<Figure size 640x480 with 1 Axes>"
            ],
            "image/png": "[encoded data removed]"
          },
          "metadata": {}
        },
        {
          "output_type": "display_data",
          "data": {
            "text/plain": [
              "<Figure size 1600x1600 with 0 Axes>"
            ]
          },
          "metadata": {}
        }
      ]
    },
    {
      "cell_type": "markdown",
      "source": [
        "#**2. Cross-Validation for Model Stability**\n",
        "\n",
        "**Analysis:** Assess how stable and generalizable your model is across different splits of the dataset.\n",
        "\n",
        "**How:** Use k-fold cross-validation (e.g., 5-fold or 10-fold) instead of a simple train-test split. This will give you a better estimate of how the model will perform on unseen data.\n",
        "\n",
        "**Action:** If the performance metrics vary widely across folds, consider further tuning or modifying the model."
      ],
      "metadata": {
        "id": "Riuo1jCK39SV"
      }
    },
    {
      "cell_type": "code",
      "source": [
        "from sklearn.model_selection import cross_val_score\n",
        "\n",
        "scores = cross_val_score(best_xgb, x, y_encoded, cv=5, scoring='accuracy')\n",
        "print(f\"Cross-validation scores: {scores}\")\n",
        "print(f\"Mean accuracy: {scores.mean():.2f}\")\n"
      ],
      "metadata": {
        "colab": {
          "base_uri": "https://localhost:8080/"
        },
        "id": "CJNq4axcwMkq",
        "outputId": "f47601e2-591f-40d1-824a-248c9c307ef2"
      },
      "execution_count": 55,
      "outputs": [
        {
          "output_type": "stream",
          "name": "stdout",
          "text": [
            "Cross-validation scores: [0.7798645  0.78129086 0.78200404 0.77962677 0.77864955]\n",
            "Mean accuracy: 0.78\n"
          ]
        }
      ]
    },
    {
      "cell_type": "markdown",
      "source": [
        "#**3. Model Comparison**\n",
        "\n",
        "**Analysis:** Compare the performance of different models (e.g., XGBoost, Random Forest, Decision Trees) not just in terms of accuracy but also precision, recall, F1-score, and AUC (Area Under the Curve) for multiclass problems.\n",
        "\n",
        "**How:** Use different metrics for evaluating the models. For example:\n",
        "Confusion Matrix: Provides a detailed breakdown of true positives, false positives, etc., for each class.\n",
        "\n",
        "**ROC-AUC Curves:** Although challenging for multiclass problems, you can calculate an aggregated AUC score.\n",
        "\n",
        "**Precision-Recall Curves:** Helpful when the dataset is imbalanced.\n",
        "\n",
        "**Action:** Based on this, you can identify which model balances precision, recall, and accuracy best for your business objective."
      ],
      "metadata": {
        "id": "9lHr44X64HDv"
      }
    },
    {
      "cell_type": "code",
      "source": [
        "from sklearn.metrics import classification_report, confusion_matrix\n",
        "\n",
        "# Classification report\n",
        "print(classification_report(y_test, y_pred))\n",
        "\n",
        "# Confusion matrix\n",
        "conf_matrix = confusion_matrix(y_test, y_pred)\n",
        "print(\"Confusion Matrix:\\n\", conf_matrix)\n"
      ],
      "metadata": {
        "colab": {
          "base_uri": "https://localhost:8080/"
        },
        "id": "xOxksjjKwUIM",
        "outputId": "6ce2b4ed-0633-4ce1-9382-e1f5e83e3281"
      },
      "execution_count": 56,
      "outputs": [
        {
          "output_type": "stream",
          "name": "stdout",
          "text": [
            "              precision    recall  f1-score   support\n",
            "\n",
            "           0       0.82      0.76      0.79      1014\n",
            "           1       0.83      0.91      0.87      5045\n",
            "           2       0.48      0.31      0.37      1325\n",
            "           3       0.73      0.74      0.73      1029\n",
            "\n",
            "    accuracy                           0.78      8413\n",
            "   macro avg       0.71      0.68      0.69      8413\n",
            "weighted avg       0.76      0.78      0.76      8413\n",
            "\n",
            "Confusion Matrix:\n",
            " [[ 772  242    0    0]\n",
            " [ 131 4609  250   55]\n",
            " [  34  662  410  219]\n",
            " [   0   70  202  757]]\n"
          ]
        }
      ]
    },
    {
      "cell_type": "markdown",
      "source": [
        "# **4. Class Imbalance Handling**\n",
        "\n",
        "**Analysis:** If the classes (e.g., p1, p2, p3, p4) are imbalanced, this can skew model performance. Imbalanced classes can lead to bias toward predicting the majority class.\n",
        "\n",
        "**How:**Techniques to handle class imbalance include:\n",
        "\n",
        "**Oversampling (e.g., SMOTE** – Synthetic Minority Over-sampling Technique)\n",
        "\n",
        "**Undersampling:** Reduce the number of examples from the majority class.\n",
        "Class-weight Adjustment: Adjust the weight of each class in the model to penalize misclassifications for minority classes.\n",
        "\n",
        "**Action:** Evaluate the impact of these techniques on performance metrics like precision and recall for minority classes.\n",
        "\n",
        "**Here we will use SMOTE.**\n"
      ],
      "metadata": {
        "id": "4nbMzd2D2-l9"
      }
    },
    {
      "cell_type": "code",
      "source": [
        "from imblearn.over_sampling import SMOTE\n",
        "\n",
        "smote = SMOTE()\n",
        "x_train_res, y_train_res = smote.fit_resample(x_train, y_train)\n"
      ],
      "metadata": {
        "id": "gwrNjrm72gBg"
      },
      "execution_count": 65,
      "outputs": []
    },
    {
      "cell_type": "code",
      "source": [
        "from sklearn.tree import DecisionTreeClassifier\n",
        "from sklearn.model_selection import train_test_split\n",
        "from sklearn.metrics import accuracy_score, precision_recall_fscore_support\n",
        "\n",
        "x_train, x_test, y_train, y_test = train_test_split(x_train_res, y_train_res, test_size=0.2, random_state=42)\n",
        "\n",
        "\n",
        "dt_model = DecisionTreeClassifier(max_depth=20, min_samples_split=10)\n",
        "dt_model.fit(x_train, y_train)\n",
        "y_pred = dt_model.predict(x_test)\n",
        "\n",
        "accuracy = accuracy_score(y_test, y_pred)\n",
        "print ()\n",
        "print(f\"Accuracy: {accuracy:.2f}\")\n",
        "print ()\n",
        "\n",
        "precision, recall, f1_score, _ = precision_recall_fscore_support(y_test, y_pred)\n",
        "\n",
        "for i, v in enumerate(['p1', 'p2', 'p3', 'p4']):\n",
        "    print(f\"Class {v}:\")\n",
        "    print(f\"Precision: {precision[i]}\")\n",
        "    print(f\"Recall: {recall[i]}\")\n",
        "    print(f\"F1 Score: {f1_score[i]}\")\n",
        "    print()"
      ],
      "metadata": {
        "colab": {
          "base_uri": "https://localhost:8080/"
        },
        "id": "YH6hmb5Z2rVA",
        "outputId": "6b657650-c76d-426d-fad4-bc6e1b644393"
      },
      "execution_count": 66,
      "outputs": [
        {
          "output_type": "stream",
          "name": "stdout",
          "text": [
            "\n",
            "Accuracy: 0.80\n",
            "\n",
            "Class p1:\n",
            "Precision: 0.9097353497164461\n",
            "Recall: 0.9265944645006017\n",
            "F1 Score: 0.91808751639442\n",
            "\n",
            "Class p2:\n",
            "Precision: 0.7708970438328236\n",
            "Recall: 0.7387057387057387\n",
            "F1 Score: 0.7544581618655692\n",
            "\n",
            "Class p3:\n",
            "Precision: 0.6790754257907543\n",
            "Recall: 0.6827299412915852\n",
            "F1 Score: 0.6808977799463284\n",
            "\n",
            "Class p4:\n",
            "Precision: 0.8179802955665024\n",
            "Recall: 0.8327482447342026\n",
            "F1 Score: 0.8252982107355865\n",
            "\n"
          ]
        }
      ]
    }
  ],
  "metadata": {
    "kernelspec": {
      "display_name": "Python 3",
      "name": "python3"
    },
    "language_info": {
      "codemirror_mode": {
        "name": "ipython",
        "version": 3
      },
      "file_extension": ".py",
      "mimetype": "text/x-python",
      "name": "python",
      "nbconvert_exporter": "python",
      "pygments_lexer": "ipython3",
      "version": "3.10.13"
    },
    "colab": {
      "provenance": [],
      "gpuType": "T4"
    },
    "accelerator": "GPU"
  },
  "nbformat": 4,
  "nbformat_minor": 0
}